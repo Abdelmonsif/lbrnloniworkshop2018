{
 "cells": [
  {
   "cell_type": "code",
   "execution_count": null,
   "metadata": {},
   "outputs": [],
   "source": [
    "# http://www.codehamster.com/2015/03/18/use-the-np-array-argsort-and-list-sort-to-get-the-rank-of-the-number/\n",
    "# http://glowingpython.blogspot.com/2012/04/k-nearest-neighbor-search.html\n",
    "import numpy as np\n",
    "import matplotlib.pyplot as plt\n",
    "from mpl_toolkits.mplot3d import Axes3D\n",
    "from sklearn.neighbors import NearestNeighbors\n",
    "\n",
    "N=50\n",
    "dim=3\n",
    "X = np.random.random((N,dim))\n",
    "diff = X.reshape(N,1,dim)-X\n",
    "D = (diff**2).sum(axis=-1)\n",
    "# print D.shape\n",
    "i = np.arange(N)\n",
    "D[i,i]=np.inf\n",
    "# this only get the nearest neighbor\n",
    "nni = D.argmin(axis=-1)\n",
    "# this will return all the nearest neighbors matrix (nnm)\n",
    "nnm = D.argsort(axis=-1)\n",
    "\n",
    "p = N/2\n",
    "k = 8\n",
    "print nnm[p,:k]"
   ]
  },
  {
   "cell_type": "code",
   "execution_count": null,
   "metadata": {},
   "outputs": [],
   "source": [
    "fig = plt.figure()\n",
    "ax = fig.add_subplot(111, projection='3d')\n",
    "\n",
    "xt = X[:,0]\n",
    "yt = X[:,1]\n",
    "zt = X[:,2]\n",
    "ax.scatter(xt, yt, zt, c='b', marker='o')\n",
    "xk = X[nnm[p,:k],0]\n",
    "yk = X[nnm[p,:k],1]\n",
    "zk = X[nnm[p,:k],2]\n",
    "# https://www.getdatajoy.com/examples/python-plots/3d-scatter-plot\n",
    "ax.scatter(xk, yk, zk, c='r', marker='o', s=60)\n",
    "xp = X[p,0]\n",
    "yp = X[p,1]\n",
    "zp = X[p,2]\n",
    "ax.scatter(xp, yp, zp, c='g', marker='8', s=90)\n",
    "ax.set_xlabel('X')\n",
    "ax.set_ylabel('Y')\n",
    "ax.set_zlabel('Z')\n",
    "plt.show()\n",
    "\n",
    "# d, i = NearestNeighbors().fit(X).kneighbors(X,2)\n",
    "# print(i[:10,1])"
   ]
  },
  {
   "cell_type": "code",
   "execution_count": null,
   "metadata": {},
   "outputs": [],
   "source": []
  }
 ],
 "metadata": {
  "kernelspec": {
   "display_name": "Python 2",
   "language": "python",
   "name": "python2"
  },
  "language_info": {
   "codemirror_mode": {
    "name": "ipython",
    "version": 2
   },
   "file_extension": ".py",
   "mimetype": "text/x-python",
   "name": "python",
   "nbconvert_exporter": "python",
   "pygments_lexer": "ipython2",
   "version": "2.7.14"
  }
 },
 "nbformat": 4,
 "nbformat_minor": 2
}
