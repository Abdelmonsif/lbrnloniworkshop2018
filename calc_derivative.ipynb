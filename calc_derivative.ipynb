{
 "cells": [
  {
   "cell_type": "code",
   "execution_count": null,
   "metadata": {},
   "outputs": [],
   "source": [
    "\"\"\"\n",
    "Calculate Derivative\n",
    "--------------------\n",
    "\"\"\"\n",
    "import numpy as np\n",
    "import matplotlib.pyplot as plt\n",
    "\n",
    "# calculate the sin() function on evenly spaced data.\n",
    "x = np.linspace(0,2*np.pi,101)\n",
    "y = np.sin(x)\n",
    "\n",
    "# use slicing to get dy and dx\n",
    "dy=y[1:]-y[:-1]\n",
    "dx=x[1:]-x[:-1]\n",
    "\n",
    "dy_dx = dy/dx\n",
    "cx = 0.5*(x[1:]+x[:-1])\n",
    "\n",
    "dy_by_2=0.5*(y[1:]+y[:-1])\n",
    "\n",
    "# note the trapezoid rule with cumsum\n",
    "area = np.cumsum(dx*dy_by_2)\n",
    "analytical = -np.cos(x) + np.cos(0)\n",
    "\n",
    "# print \"area=\", area"
   ]
  },
  {
   "cell_type": "code",
   "execution_count": null,
   "metadata": {},
   "outputs": [],
   "source": [
    "plt.subplot(1,2,1)\n",
    "plt.plot(x,y)\n",
    "plt.plot(cx,dy_dx,'xr')\n",
    "plt.plot(x,np.cos(x),'og')\n",
    "plt.subplot(1,2,2)\n",
    "plt.plot(cx,area,'xr')\n",
    "plt.plot(x,analytical)\n",
    "plt.show()"
   ]
  },
  {
   "cell_type": "code",
   "execution_count": null,
   "metadata": {},
   "outputs": [],
   "source": []
  }
 ],
 "metadata": {
  "kernelspec": {
   "display_name": "Python 2",
   "language": "python",
   "name": "python2"
  },
  "language_info": {
   "codemirror_mode": {
    "name": "ipython",
    "version": 2
   },
   "file_extension": ".py",
   "mimetype": "text/x-python",
   "name": "python",
   "nbconvert_exporter": "python",
   "pygments_lexer": "ipython2",
   "version": "2.7.14"
  }
 },
 "nbformat": 4,
 "nbformat_minor": 2
}
