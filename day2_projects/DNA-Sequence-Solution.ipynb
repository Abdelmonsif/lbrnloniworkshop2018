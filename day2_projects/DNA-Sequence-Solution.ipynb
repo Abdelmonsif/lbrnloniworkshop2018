{
 "cells": [
  {
   "cell_type": "markdown",
   "metadata": {},
   "source": [
    "## Mini Project for Bioinformatics Track: \n",
    "\n",
    "The genetic code of all living organisms are represented by a long sequence of simple molecules called nucleotides, or bases, which makes up the Deoxyribonucleic acid, better known as DNA. There are only four such nucleotides, and the entire genetic code of a human can be seen as a simple, though 3 billion long, string of the letters A, C, G, and T. Analyzing DNA data to gain increased biological understanding is much about searching in (long) strings for certain string patterns involving the letters A, C, G, and T. This is an integral part of bioinformatics, a scientific discipline addressing the use of computers to search for, explore, and use information about genes, nucleic acids, and proteins."
   ]
  },
  {
   "cell_type": "code",
   "execution_count": null,
   "metadata": {},
   "outputs": [],
   "source": []
  },
  {
   "cell_type": "markdown",
   "metadata": {},
   "source": [
    "** FASTQ ** format is a text-based format for storing both a biological sequence (usually nucleotide sequence) and its corresponding quality scores. Both the sequence letter and quality score are each encoded with a single ASCII character for brevity.\n",
    "\n",
    "A FASTQ file normally uses four lines per sequence.\n",
    "* Line 1 begins with a '@' character and is followed by a sequence identifier and an optional description (like a FASTA title line).\n",
    "* Line 2 is the raw sequence letters.\n",
    "* Line 3 begins with a '+' character and is optionally followed by the same sequence identifier (and any description) again.\n",
    "* Line 4 encodes the quality values for the sequence in Line 2, and must contain the same number of symbols as letters in the sequence."
   ]
  },
  {
   "cell_type": "code",
   "execution_count": 10,
   "metadata": {},
   "outputs": [
    {
     "name": "stdout",
     "output_type": "stream",
     "text": [
      "@HWI-M20149:202:000000000-AF422:1:1101:16309:1827 2:N:0:CAAATTCGGGAT\r\n",
      "CCTGTTTGCTCCCCTCGCTTTCGTACCTCAGCGTCCATTCTTGTCCAGTCAGTCGCCTTCGCCACTGGTGTTCTTCCGTATATCTACGACTTTCACCTCTACACTCGGAATTCCACTCTCCTCTCCTATCTTCTAGCTATCTCGTTTCAATGGCTGTTCTGGCGTTGAGCTCCTGGCTTTCCCCTCTGACTTGATTATCCTCCTACGTACTCTTTACGCCCACTCCTTCCTATTCTCGCTTGCTTCCTCCT\r\n",
      "+\r\n",
      "AAA1>FD1BFFFGG1A1EFGGGEB00AGF111AAA0/D222A1DB121D111B1AA/AEH/EE//AB>F0BEH@F2@/10B1BFG21///?EGF2F1FGH1B10>0////?FE121>01BBBGGF011211BF>221>22<120?<?F22221<0/?<1<111/?<-.1<<1<110<<CCG00C<.<0=GGD<00:000;0:/::::.0:::0BF####################################\r\n"
     ]
    }
   ],
   "source": [
    "!head -4 DNA.fastq"
   ]
  },
  {
   "cell_type": "markdown",
   "metadata": {},
   "source": [
    "## Steps to complete the project: \n",
    "<font color=blue>\n",
    "*  ### Read sequence from a file (DNA.fastq)\n",
    "* ### Create a list or an array for sequence data \n",
    "* ### Calcuate counts for each necleotide (A, C, G, T)\n",
    "* ### Plot necleotide base frequency "
   ]
  },
  {
   "cell_type": "code",
   "execution_count": 8,
   "metadata": {},
   "outputs": [],
   "source": [
    "import numpy as np"
   ]
  },
  {
   "cell_type": "markdown",
   "metadata": {},
   "source": [
    "### Extract sequence from file"
   ]
  },
  {
   "cell_type": "code",
   "execution_count": null,
   "metadata": {},
   "outputs": [],
   "source": [
    "seq_list = []\n",
    "with open('DNA.fastq','r') as f:\n",
    "    content=f.readlines()\n",
    "\n",
    "for i, line in enumerate(content):\n",
    "    if i % 4 == 1:\n",
    "        seq_list.append(line)\n",
    "            #print(i, line) \n",
    "print(seq_list)     \n",
    "       "
   ]
  },
  {
   "cell_type": "code",
   "execution_count": 13,
   "metadata": {},
   "outputs": [],
   "source": [
    "seq_array = np.array(seq_list).reshape(-1,1)"
   ]
  },
  {
   "cell_type": "code",
   "execution_count": null,
   "metadata": {},
   "outputs": [],
   "source": [
    "print(seq_array)\n",
    "print(seq_array.ndim, seq_array.size)"
   ]
  },
  {
   "cell_type": "markdown",
   "metadata": {},
   "source": [
    "### Count nucleotides "
   ]
  },
  {
   "cell_type": "code",
   "execution_count": 15,
   "metadata": {},
   "outputs": [],
   "source": [
    "def count(dna, base):\n",
    "    m = []   # matches for base in dna: m[i]=True if dna[i]==base\n",
    "    for c in dna:\n",
    "        m.append(c == base)\n",
    "    return sum(m)\n"
   ]
  },
  {
   "cell_type": "code",
   "execution_count": 16,
   "metadata": {},
   "outputs": [
    {
     "data": {
      "text/plain": [
       "0"
      ]
     },
     "execution_count": 16,
     "metadata": {},
     "output_type": "execute_result"
    }
   ],
   "source": [
    "count(seq_array[0,0], 'G')\n",
    "count(seq_list, 'G')"
   ]
  },
  {
   "cell_type": "code",
   "execution_count": 17,
   "metadata": {},
   "outputs": [],
   "source": [
    "def freq_lists(dna_list):\n",
    "    n = len(dna_list[0])\n",
    "    A = [0]*n\n",
    "    T = [0]*n\n",
    "    G = [0]*n\n",
    "    C = [0]*n\n",
    "    for dna in dna_list:\n",
    "        for index, base in enumerate(dna):\n",
    "            if base == 'A':\n",
    "                A[index] += 1\n",
    "            elif base == 'C':\n",
    "                C[index] += 1\n",
    "            elif base == 'G':\n",
    "                G[index] += 1\n",
    "            elif base == 'T':\n",
    "                T[index] += 1\n",
    "    return A, C, G, T"
   ]
  },
  {
   "cell_type": "code",
   "execution_count": 18,
   "metadata": {},
   "outputs": [
    {
     "data": {
      "text/plain": [
       "([30], [92], [36], [93])"
      ]
     },
     "execution_count": 18,
     "metadata": {},
     "output_type": "execute_result"
    }
   ],
   "source": [
    "freq_lists(seq_array[0,0])"
   ]
  },
  {
   "cell_type": "code",
   "execution_count": 19,
   "metadata": {},
   "outputs": [],
   "source": [
    "def freq_dict_of_list(dna_list):\n",
    "    #frequency_matrix = {'A':0, 'C':0, 'G':0, 'T':0 }\n",
    "    frequency_matrix = {base: 0 for base in 'ACGT'}\n",
    "    for dna in dna_list:\n",
    "         for index, base in enumerate(dna):  \n",
    "            if not base in '\\n':\n",
    "                frequency_matrix[base] = frequency_matrix[base]+1\n",
    "    return frequency_matrix"
   ]
  },
  {
   "cell_type": "code",
   "execution_count": 20,
   "metadata": {},
   "outputs": [
    {
     "name": "stdout",
     "output_type": "stream",
     "text": [
      "{'A': 405, 'C': 830, 'G': 313, 'T': 962}\n"
     ]
    }
   ],
   "source": [
    "matrix = freq_dict_of_list(seq_list)\n",
    "print(matrix)"
   ]
  },
  {
   "cell_type": "code",
   "execution_count": 26,
   "metadata": {},
   "outputs": [],
   "source": [
    "def freq_dict_of_arrays(dna_array):\n",
    "    #frequency_matrix = {'A':0, 'C':0, 'G':0, 'T':0 }\n",
    "    frequency_matrix = {base: 0 for base in 'ACGT'}\n",
    "    for i in range(dna_array.size):\n",
    "        dna=dna_array[i,0]\n",
    "        for index, base in enumerate(dna):  \n",
    "            if not base in '\\n':\n",
    "                frequency_matrix[base] = frequency_matrix[base]+1\n",
    "    return frequency_matrix"
   ]
  },
  {
   "cell_type": "code",
   "execution_count": 27,
   "metadata": {},
   "outputs": [
    {
     "name": "stdout",
     "output_type": "stream",
     "text": [
      "{'A': 405, 'C': 830, 'G': 313, 'T': 962}\n"
     ]
    }
   ],
   "source": [
    "seq_count=freq_dict_of_arrays(seq_array)\n",
    "print(seq_count)"
   ]
  },
  {
   "cell_type": "markdown",
   "metadata": {},
   "source": [
    "### Calculate Nuclotides A, C, G, T frequence"
   ]
  },
  {
   "cell_type": "code",
   "execution_count": 23,
   "metadata": {},
   "outputs": [
    {
     "name": "stdout",
     "output_type": "stream",
     "text": [
      "2510\n",
      "[0.16135458167330677, 0.33067729083665337, 0.12470119521912351, 0.38326693227091635]\n"
     ]
    }
   ],
   "source": [
    "# list of A,C, G, T count from dic seq_count\n",
    "values = seq_count.values()\n",
    "seq_sum = sum(values)\n",
    "#= seq_count[base for base in 'ACGT']\n",
    "print(seq_sum)\n",
    "seq_feq = [x/seq_sum for x in values]\n",
    "print(seq_feq)"
   ]
  },
  {
   "cell_type": "markdown",
   "metadata": {},
   "source": [
    "### Plotting Nuclotides Frequency "
   ]
  },
  {
   "cell_type": "code",
   "execution_count": 24,
   "metadata": {},
   "outputs": [],
   "source": [
    "import matplotlib.pyplot as plt"
   ]
  },
  {
   "cell_type": "code",
   "execution_count": 25,
   "metadata": {},
   "outputs": [],
   "source": [
    "x=['A', 'C', 'G', 'T']\n",
    "y= np.array(seq_feq)\n"
   ]
  },
  {
   "cell_type": "code",
   "execution_count": 452,
   "metadata": {},
   "outputs": [
    {
     "data": {
      "image/png": "[encoded data removed]",
      "text/plain": [
       "<Figure size 432x288 with 1 Axes>"
      ]
     },
     "metadata": {},
     "output_type": "display_data"
    }
   ],
   "source": [
    "plt.bar(x, y, color='red')\n",
    "plt.title(\"DNA Necleotides Frequence\")\n",
    "plt.xlabel('Neclotides')\n",
    "plt.ylabel('Frequence')\n",
    "plt.show()"
   ]
  }
 ],
 "metadata": {
  "kernelspec": {
   "display_name": "Python 3",
   "language": "python",
   "name": "python3"
  },
  "language_info": {
   "codemirror_mode": {
    "name": "ipython",
    "version": 3
   },
   "file_extension": ".py",
   "mimetype": "text/x-python",
   "name": "python",
   "nbconvert_exporter": "python",
   "pygments_lexer": "ipython3",
   "version": "3.6.4"
  }
 },
 "nbformat": 4,
 "nbformat_minor": 2
}
