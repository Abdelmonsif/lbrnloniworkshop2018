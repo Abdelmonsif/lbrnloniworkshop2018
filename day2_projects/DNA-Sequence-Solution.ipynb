{
 "cells": [
  {
   "cell_type": "markdown",
   "metadata": {},
   "source": [
    "## Mini Project for Bioinformatics Track: \n",
    "\n",
    "The genetic code of all living organisms are represented by a long sequence of simple molecules called nucleotides, or bases, which makes up the Deoxyribonucleic acid, better known as DNA. There are only four such nucleotides, and the entire genetic code of a human can be seen as a simple, though 3 billion long, string of the letters A, C, G, and T. Analyzing DNA data to gain increased biological understanding is much about searching in (long) strings for certain string patterns involving the letters A, C, G, and T. This is an integral part of bioinformatics, a scientific discipline addressing the use of computers to search for, explore, and use information about genes, nucleic acids, and proteins."
   ]
  },
  {
   "cell_type": "markdown",
   "metadata": {},
   "source": [
    "** FASTQ ** format is a text-based format for storing both a biological sequence (usually nucleotide sequence) and its corresponding quality scores. Both the sequence letter and quality score are each encoded with a single ASCII character for brevity.\n",
    "\n",
    "A FASTQ file normally uses four lines per sequence.\n",
    "* Line 1 begins with a '@' character and is followed by a sequence identifier and an optional description (like a FASTA title line).\n",
    "* Line 2 is the raw sequence letters.\n",
    "* Line 3 begins with a '+' character and is optionally followed by the same sequence identifier (and any description) again.\n",
    "* Line 4 encodes the quality values for the sequence in Line 2, and must contain the same number of symbols as letters in the sequence."
   ]
  },
  {
   "cell_type": "code",
   "execution_count": 61,
   "metadata": {},
   "outputs": [
    {
     "name": "stdout",
     "output_type": "stream",
     "text": [
      "@HWI-M20149:202:000000000-AF422:1:1101:16309:1827 2:N:0:CAAATTCGGGAT\r\n",
      "CCTGTTTGCTCCCCTCGCTTTCGTACCTCAGCGTCCATTCTTGTCCAGTCAGTCGCCTTCGCCACTGGTGTTCTTCCGTATATCTACGACTTTCACCTCTACACTCGGAATTCCACTCTCCTCTCCTATCTTCTAGCTATCTCGTTTCAATGGCTGTTCTGGCGTTGAGCTCCTGGCTTTCCCCTCTGACTTGATTATCCTCCTACGTACTCTTTACGCCCACTCCTTCCTATTCTCGCTTGCTTCCTCCT\r\n",
      "+\r\n",
      "AAA1>FD1BFFFGG1A1EFGGGEB00AGF111AAA0/D222A1DB121D111B1AA/AEH/EE//AB>F0BEH@F2@/10B1BFG21///?EGF2F1FGH1B10>0////?FE121>01BBBGGF011211BF>221>22<120?<?F22221<0/?<1<111/?<-.1<<1<110<<CCG00C<.<0=GGD<00:000;0:/::::.0:::0BF####################################\r\n"
     ]
    }
   ],
   "source": [
    "!head -4 DNA.fastq"
   ]
  },
  {
   "cell_type": "markdown",
   "metadata": {},
   "source": [
    "## Steps to complete the project: \n",
    "<font color=blue>\n",
    "*  ### Read sequence from a file (DNA.fastq)\n",
    "* ### Create a list or an array for sequence data \n",
    "* ### Calcuate counts for each necleotide (A, C, G, T)\n",
    "* ### Plot necleotide base frequency "
   ]
  },
  {
   "cell_type": "code",
   "execution_count": 62,
   "metadata": {},
   "outputs": [],
   "source": [
    "import numpy as np"
   ]
  },
  {
   "cell_type": "markdown",
   "metadata": {},
   "source": [
    "### Extract sequence from file"
   ]
  },
  {
   "cell_type": "code",
   "execution_count": null,
   "metadata": {},
   "outputs": [],
   "source": [
    "seq_list = []\n",
    "with open('DNA.fastq','r') as f:\n",
    "    content=f.readlines()\n",
    "\n",
    "for i, line in enumerate(content):\n",
    "    if i % 4 == 1:\n",
    "        seq_list.append(line)\n",
    "           \n",
    "print(seq_list)     \n",
    "       "
   ]
  },
  {
   "cell_type": "code",
   "execution_count": 64,
   "metadata": {},
   "outputs": [],
   "source": [
    "# ceate an array from the list\n",
    "seq_array = np.array(seq_list).reshape(-1,1)"
   ]
  },
  {
   "cell_type": "code",
   "execution_count": null,
   "metadata": {},
   "outputs": [],
   "source": [
    "# check array features\n",
    "print(seq_array)\n",
    "print(seq_array.ndim, seq_array.size)"
   ]
  },
  {
   "cell_type": "markdown",
   "metadata": {},
   "source": [
    "### Count nucleotides "
   ]
  },
  {
   "cell_type": "code",
   "execution_count": 66,
   "metadata": {},
   "outputs": [],
   "source": [
    "# A function to count occurances by a single base\n",
    "def count(dna, base):\n",
    "    m = []   # matches for base in dna: m[i]=True if dna[i]==base\n",
    "    for c in dna:\n",
    "        m.append(c == base)\n",
    "    return sum(m)\n"
   ]
  },
  {
   "cell_type": "code",
   "execution_count": null,
   "metadata": {},
   "outputs": [],
   "source": [
    "count(seq_array[1,0], 'A')\n",
    "count(seq_list[1], 'A')"
   ]
  },
  {
   "cell_type": "code",
   "execution_count": 68,
   "metadata": {},
   "outputs": [],
   "source": [
    "# A function to count occurances of all 4 bases with a list\n",
    "def freq_lists(dna_list):\n",
    "    A=T=G=C=0\n",
    "    for dna in dna_list:\n",
    "        for index, base in enumerate(dna):\n",
    "            if base == 'A':\n",
    "                A +=1\n",
    "            elif base == 'C':\n",
    "                C += 1\n",
    "            elif base == 'G':\n",
    "                G += 1\n",
    "            elif base == 'T':\n",
    "                T += 1\n",
    "            elif base == '\\n':\n",
    "                break\n",
    "    return A, C, G, T"
   ]
  },
  {
   "cell_type": "code",
   "execution_count": null,
   "metadata": {},
   "outputs": [],
   "source": [
    "print(freq_lists(seq_array[0,0]))\n",
    "print(freq_lists(seq_array[1,0]))\n",
    "print(freq_lists(seq_list))\n"
   ]
  },
  {
   "cell_type": "code",
   "execution_count": 70,
   "metadata": {},
   "outputs": [],
   "source": [
    "# A function to count occurances of all 4 bases \n",
    "# input: list\n",
    "# output: dictionary\n",
    "\n",
    "def freq_dict_of_list(dna_list):\n",
    "    #frequency_matrix = {'A':0, 'C':0, 'G':0, 'T':0 }\n",
    "    frequency_matrix = {base: 0 for base in 'ACGT'}\n",
    "    for dna in dna_list:\n",
    "        print(dna) \n",
    "        for index, base in enumerate(dna):  \n",
    "            if not base in '\\n':\n",
    "                frequency_matrix[base] = frequency_matrix[base]+1\n",
    "    return frequency_matrix"
   ]
  },
  {
   "cell_type": "code",
   "execution_count": null,
   "metadata": {},
   "outputs": [],
   "source": [
    "matrix_seq = freq_dict_of_list(seq_list)\n",
    "print(matrix_seq)"
   ]
  },
  {
   "cell_type": "code",
   "execution_count": 73,
   "metadata": {},
   "outputs": [],
   "source": [
    "# A function to count occurances of all 4 bases \n",
    "# input: array\n",
    "# output: dictionary\n",
    "\n",
    "def freq_dict_of_array(dna_array):\n",
    "    #frequency_matrix = {'A':0, 'C':0, 'G':0, 'T':0 }\n",
    "    frequency_matrix = {base: 0 for base in 'ACGT'}\n",
    "    for i in range(dna_array.size):\n",
    "        dna = dna_array[i,0]\n",
    "        for index, base in enumerate(dna):  \n",
    "            if not base in '\\n':\n",
    "                frequency_matrix[base] = frequency_matrix[base]+1\n",
    "    return frequency_matrix"
   ]
  },
  {
   "cell_type": "code",
   "execution_count": null,
   "metadata": {},
   "outputs": [],
   "source": [
    "seq_count=freq_dict_of_array(seq_array)\n",
    "print(seq_count)"
   ]
  },
  {
   "cell_type": "markdown",
   "metadata": {},
   "source": [
    "### Calculate Nuclotides A, C, G, T frequence"
   ]
  },
  {
   "cell_type": "code",
   "execution_count": null,
   "metadata": {},
   "outputs": [],
   "source": [
    "# list of A,C, G, T count from dic seq_count\n",
    "values = seq_count.values()\n",
    "value_sum = sum(values)\n",
    "keys = []\n",
    "seq_feqs = []\n",
    "#= seq_count[base for base in 'ACGT']\n",
    "for key in sorted(seq_count):\n",
    "    keys.append(key)\n",
    "    val = (seq_count[key])/value_sum\n",
    "    seq_feqs.append(val)\n",
    "\n",
    "print(seq_feq)"
   ]
  },
  {
   "cell_type": "markdown",
   "metadata": {},
   "source": [
    "### Plotting Nuclotides Frequency "
   ]
  },
  {
   "cell_type": "code",
   "execution_count": 76,
   "metadata": {},
   "outputs": [],
   "source": [
    "import matplotlib.pyplot as plt"
   ]
  },
  {
   "cell_type": "code",
   "execution_count": 77,
   "metadata": {},
   "outputs": [
    {
     "data": {
      "image/png": "[encoded data removed]",
      "text/plain": [
       "<Figure size 432x288 with 1 Axes>"
      ]
     },
     "metadata": {},
     "output_type": "display_data"
    }
   ],
   "source": [
    "plt.bar(keys, seq_feq, color='blue')\n",
    "plt.title(\"DNA Necleotides Frequence\")\n",
    "plt.xlabel('Neclotides')\n",
    "plt.ylabel('Frequence')\n",
    "plt.show()"
   ]
  }
 ],
 "metadata": {
  "kernelspec": {
   "display_name": "Python 3",
   "language": "python",
   "name": "python3"
  },
  "language_info": {
   "codemirror_mode": {
    "name": "ipython",
    "version": 3
   },
   "file_extension": ".py",
   "mimetype": "text/x-python",
   "name": "python",
   "nbconvert_exporter": "python",
   "pygments_lexer": "ipython3",
   "version": "3.5.2"
  }
 },
 "nbformat": 4,
 "nbformat_minor": 2
}
