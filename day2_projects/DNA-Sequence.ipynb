{
 "cells": [
  {
   "cell_type": "markdown",
   "metadata": {},
   "source": [
    "## Mini Project for Bioinformatics Track: \n",
    "\n",
    "The genetic code of all living organisms are represented by a long sequence of simple molecules called nucleotides, or bases, which makes up the Deoxyribonucleic acid, better known as DNA. There are only four such nucleotides, and the entire genetic code of a human can be seen as a simple, though 3 billion long, string of the letters A, C, G, and T. Analyzing DNA data to gain increased biological understanding is much about searching in (long) strings for certain string patterns involving the letters A, C, G, and T. This is an integral part of bioinformatics, a scientific discipline addressing the use of computers to search for, explore, and use information about genes, nucleic acids, and proteins."
   ]
  },
  {
   "cell_type": "markdown",
   "metadata": {},
   "source": [
    "** FASTQ ** format is a text-based format for storing both a biological sequence (usually nucleotide sequence) and its corresponding quality scores. Both the sequence letter and quality score are each encoded with a single ASCII character for brevity.\n",
    "\n",
    "A FASTQ file normally uses four lines per sequence.\n",
    "* Line 1 begins with a '@' character and is followed by a sequence identifier and an optional description (like a FASTA title line).\n",
    "* Line 2 is the raw sequence letters.\n",
    "* Line 3 begins with a '+' character and is optionally followed by the same sequence identifier (and any description) again.\n",
    "* Line 4 encodes the quality values for the sequence in Line 2, and must contain the same number of symbols as letters in the sequence."
   ]
  },
  {
   "cell_type": "code",
   "execution_count": 61,
   "metadata": {},
   "outputs": [
    {
     "name": "stdout",
     "output_type": "stream",
     "text": [
      "@HWI-M20149:202:000000000-AF422:1:1101:16309:1827 2:N:0:CAAATTCGGGAT\r\n",
      "CCTGTTTGCTCCCCTCGCTTTCGTACCTCAGCGTCCATTCTTGTCCAGTCAGTCGCCTTCGCCACTGGTGTTCTTCCGTATATCTACGACTTTCACCTCTACACTCGGAATTCCACTCTCCTCTCCTATCTTCTAGCTATCTCGTTTCAATGGCTGTTCTGGCGTTGAGCTCCTGGCTTTCCCCTCTGACTTGATTATCCTCCTACGTACTCTTTACGCCCACTCCTTCCTATTCTCGCTTGCTTCCTCCT\r\n",
      "+\r\n",
      "AAA1>FD1BFFFGG1A1EFGGGEB00AGF111AAA0/D222A1DB121D111B1AA/AEH/EE//AB>F0BEH@F2@/10B1BFG21///?EGF2F1FGH1B10>0////?FE121>01BBBGGF011211BF>221>22<120?<?F22221<0/?<1<111/?<-.1<<1<110<<CCG00C<.<0=GGD<00:000;0:/::::.0:::0BF####################################\r\n",
      "@HWI-M20149:202:000000000-AF422:1:1101:14316:1930 2:N:0:CAAATTCGGGAT\r\n",
      "CCTCTTCGCTCCCCTCGCTTTCGTCCCTCAGCGTCAGTTTTGGCCCAGTAGCCTGCCTTCGCCATCGGTGTTCTTTCTCATCTCTGTGCATTTCACCGCTCCACTACGTATTCCCTTTACCTCTACTGTCTTCTAGACCTCTAGTTTCCTTCTCCCTTTTCCCATTCGACCCCTGGCTTTCGCCAGTTGCTTTTCTGCCCCCCTTACCACCCTTTCAACCCCATTCATCCCGATCACGCCTGCCACCTCCT\r\n",
      "+\r\n",
      "AA>1>F1AAA1AF111AFG0AGEBA0EHHBG1BAAAEH2220/1A/BFFB1111BF0BFHHGEE/1BEE/EEHG112@22B@BGH12BGBGHGFBG1EEG//B0100/0BBGF>111B1BG1GFBB21BG2BG2B22<1111@@G2>221211110?11111111?111<--...<<<CFD######################################################################\r\n"
     ]
    }
   ],
   "source": [
    "!head -8 DNA.fastq"
   ]
  },
  {
   "cell_type": "markdown",
   "metadata": {},
   "source": [
    "## Steps to complete the project: \n",
    "<font color=blue>\n",
    "*  ### Read sequence from a file (DNA.fastq)\n",
    "* ### Create a list or an array for sequence data \n",
    "* ### Calcuate counts for each necleotide (A, C, G, T)\n",
    "* ### Plot necleotide base frequency "
   ]
  },
  {
   "cell_type": "code",
   "execution_count": 1,
   "metadata": {},
   "outputs": [],
   "source": [
    "import numpy as np"
   ]
  },
  {
   "cell_type": "markdown",
   "metadata": {},
   "source": [
    "### Extract sequence from file"
   ]
  },
  {
   "cell_type": "markdown",
   "metadata": {},
   "source": [
    "<font color=red>\n",
    "#### Blank 1: Read DNA.fastq information into a list"
   ]
  },
  {
   "cell_type": "raw",
   "metadata": {
    "scrolled": true
   },
   "source": [
    "# open \"DNA.fastq\" to read into a list\n",
    "# readlines() is a function to read all lines from a file\n",
    "seq_list = []\n",
    "\n",
    "\n",
    "for i, line in enumerate(content):\n",
    "    if i % 4 == 1:\n",
    "        seq_list.append(line)\n",
    "            #print(i, line) \n",
    "print(seq_list)     \n",
    "       "
   ]
  },
  {
   "cell_type": "markdown",
   "metadata": {},
   "source": [
    "<font color=red>\n",
    "#### Blank 2: Reshape seq_list into an numpy array seq_array"
   ]
  },
  {
   "cell_type": "raw",
   "metadata": {},
   "source": [
    "# Reshape seq_list into an numpy array seq_array\n",
    "seq_array = "
   ]
  },
  {
   "cell_type": "code",
   "execution_count": null,
   "metadata": {},
   "outputs": [],
   "source": [
    "print(seq_array)\n",
    "print(seq_array.ndim, seq_array.size)"
   ]
  },
  {
   "cell_type": "markdown",
   "metadata": {},
   "source": [
    "### Count nucleotides "
   ]
  },
  {
   "cell_type": "code",
   "execution_count": 42,
   "metadata": {},
   "outputs": [],
   "source": [
    "# A function to count occurances by a single base\n",
    "def count(dna, base):\n",
    "    m = []   # matches for base in dna: m[i]=True if dna[i]==base\n",
    "    for c in dna:\n",
    "        m.append(c == base)\n",
    "    return sum(m)\n"
   ]
  },
  {
   "cell_type": "code",
   "execution_count": 43,
   "metadata": {},
   "outputs": [
    {
     "data": {
      "text/plain": [
       "36"
      ]
     },
     "execution_count": 43,
     "metadata": {},
     "output_type": "execute_result"
    }
   ],
   "source": [
    "count(seq_array[0,0], 'G')\n",
    "count(seq_list[0], 'G')\n"
   ]
  },
  {
   "cell_type": "code",
   "execution_count": null,
   "metadata": {},
   "outputs": [],
   "source": [
    "# A function to count occurances of all 4 bases with a list\n",
    "def freq_lists(dna_list):\n",
    "    A=T=G=C=0\n",
    "    for dna in dna_list:\n",
    "        for index, base in enumerate(dna):\n",
    "            if base == 'A':\n",
    "                A +=1\n",
    "            elif base == 'C':\n",
    "                C += 1\n",
    "            elif base == 'G':\n",
    "                G += 1\n",
    "            elif base == 'T':\n",
    "                T += 1\n",
    "            elif base == '\\n':\n",
    "                break\n",
    "    return A, C, G, T"
   ]
  },
  {
   "cell_type": "code",
   "execution_count": 56,
   "metadata": {},
   "outputs": [
    {
     "name": "stdout",
     "output_type": "stream",
     "text": [
      "([30], [92], [36], [93])\n",
      "([28], [105], [32], [86])\n",
      "([30], [92], [36], [93])\n",
      "([28], [105], [32], [86])\n"
     ]
    }
   ],
   "source": [
    "print(freq_lists(seq_array[0,0]))\n",
    "print(freq_lists(seq_array[1,0]))\n",
    "print(freq_lists(seq_list)"
   ]
  },
  {
   "cell_type": "code",
   "execution_count": 47,
   "metadata": {},
   "outputs": [],
   "source": [
    "# A function to count occurances of all 4 bases \n",
    "# input: list\n",
    "# output: dictionary\n",
    "\n",
    "def freq_dict_of_list(dna_list):\n",
    "    #frequency_matrix = {'A':0, 'C':0, 'G':0, 'T':0 }\n",
    "    frequency_matrix = {base: 0 for base in 'ACGT'}\n",
    "    for dna in dna_list:\n",
    "         for index, base in enumerate(dna):  \n",
    "            if not base in '\\n':\n",
    "                frequency_matrix[base] = frequency_matrix[base]+1\n",
    "    return frequency_matrix"
   ]
  },
  {
   "cell_type": "markdown",
   "metadata": {},
   "source": [
    "<font color=red>\n",
    "#### Blank 3: call freq_dict_of_list(dna_list)"
   ]
  },
  {
   "cell_type": "code",
   "execution_count": 48,
   "metadata": {},
   "outputs": [
    {
     "name": "stdout",
     "output_type": "stream",
     "text": [
      "{'A': 405, 'T': 962, 'C': 830, 'G': 313}\n"
     ]
    }
   ],
   "source": [
    "# call freq_dict_of_list(dna_list)\n",
    "matrix_seq = \n",
    "print(matrix_seq)"
   ]
  },
  {
   "cell_type": "code",
   "execution_count": 49,
   "metadata": {},
   "outputs": [],
   "source": [
    "# A function to count occurances of all 4 bases \n",
    "# input: array\n",
    "# output: dictionary\n",
    "\n",
    "def freq_dict_of_array(dna_array):\n",
    "    #frequency_matrix = {'A':0, 'C':0, 'G':0, 'T':0 }\n",
    "    frequency_matrix = {base: 0 for base in 'ACGT'}\n",
    "    for i in range(dna_array.size):\n",
    "        dna=dna_array[i,0]\n",
    "   #     print(\"dna\",dna)\n",
    "        for index, base in enumerate(dna):  \n",
    "            if not base in '\\n':\n",
    "                frequency_matrix[base] = frequency_matrix[base]+1\n",
    "    return frequency_matrix"
   ]
  },
  {
   "cell_type": "markdown",
   "metadata": {},
   "source": [
    "<font color=red>\n",
    "#### Blank 4: call freq_dict_of_array(dna_list)"
   ]
  },
  {
   "cell_type": "code",
   "execution_count": null,
   "metadata": {},
   "outputs": [],
   "source": [
    "seq_count = ??\n",
    "print(seq_count)"
   ]
  },
  {
   "cell_type": "markdown",
   "metadata": {},
   "source": [
    "### Calculate Nuclotides A, C, G, T frequence"
   ]
  },
  {
   "cell_type": "markdown",
   "metadata": {},
   "source": [
    "<font color=red>\n",
    "#### Blank 5: calcuate frequency of each base"
   ]
  },
  {
   "cell_type": "code",
   "execution_count": null,
   "metadata": {},
   "outputs": [],
   "source": [
    "# caluculate total counts of all bases\n",
    "values = ??\n",
    "value_sum = ?? \n",
    "\n",
    "# create a list of keys and a list of frequency of the bases\n",
    "keys = []\n",
    "seq_feqs = []\n",
    "\n",
    "# create a list of keys and a list of base frequency\n",
    "for key in sorted(seq_count):\n",
    "    ??\n",
    "    ??\n",
    "\n",
    "print(seq_feq)\n"
   ]
  },
  {
   "cell_type": "markdown",
   "metadata": {},
   "source": [
    "### Plotting Nuclotides Frequency "
   ]
  },
  {
   "cell_type": "code",
   "execution_count": 449,
   "metadata": {},
   "outputs": [],
   "source": [
    "import matplotlib.pyplot as plt"
   ]
  },
  {
   "cell_type": "code",
   "execution_count": 450,
   "metadata": {},
   "outputs": [],
   "source": [
    "x = keys\n",
    "y = seq_feqs\n"
   ]
  },
  {
   "cell_type": "markdown",
   "metadata": {},
   "source": [
    "<font color=red>\n",
    "#### Blank 6: plot a bar chart where x:base y:frquency"
   ]
  },
  {
   "cell_type": "code",
   "execution_count": null,
   "metadata": {},
   "outputs": [],
   "source": [
    "\n",
    "plt.bar( ?? )\n",
    "plt.title(  )\n",
    "plt.xlabel('Neclotides')\n",
    "plt.ylabel('Frequence')\n",
    "# shoe plot\n",
    "??"
   ]
  }
 ],
 "metadata": {
  "kernelspec": {
   "display_name": "Python 3",
   "language": "python",
   "name": "python3"
  },
  "language_info": {
   "codemirror_mode": {
    "name": "ipython",
    "version": 3
   },
   "file_extension": ".py",
   "mimetype": "text/x-python",
   "name": "python",
   "nbconvert_exporter": "python",
   "pygments_lexer": "ipython3",
   "version": "3.5.2"
  }
 },
 "nbformat": 4,
 "nbformat_minor": 2
}
