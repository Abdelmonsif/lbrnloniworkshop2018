{
 "cells": [
  {
   "cell_type": "markdown",
   "metadata": {},
   "source": [
    "\n",
    " #  Python Programming\n",
    "##  Summer Workshop 2018 \n",
    "## LSU HPC & LONI\n"
   ]
  },
  {
   "cell_type": "markdown",
   "metadata": {},
   "source": [
    "<a id=\"top\"></a>\n",
    "# Login to shelob \n",
    "\n",
    "> [userxxx@mike ~] <font color=blue> ssh userxx@mike.hpc.lsu.edu </font>\n",
    "***\n",
    "> [userxxx@mike ~] <font color=blue> source reserve-node.sh\n",
    "\n",
    " \n",
    "***\n",
    " # Lauch jupyter notebook  \n",
    "\n",
    " "
   ]
  },
  {
   "cell_type": "markdown",
   "metadata": {},
   "source": [
    "<a id='overview'></a>\n",
    "# Topics Covered\n",
    "<font color=blue>\n",
    " * [What is Python](#intro)\n",
    " * [Python programming basics](#data-type)\n",
    " * [Control structures and functions](#control)\n",
    " * [Python modules](#module)\n",
    " * [Numpy](#numpy)\n",
    " * [Plotting](#plot)</font>\n",
    "<br>"
   ]
  },
  {
   "cell_type": "markdown",
   "metadata": {},
   "source": [
    "<a id='intro'></a>\n",
    "## What is Python?\n",
    "\n",
    " * A general-purpose programming language (1980) by Guido van Rossum\n",
    " * Intuitive and minimal coding\n",
    " * Objected-Oriented\n",
    " * Interpreted not compiled\n",
    " * Interactive\n",
    " * Dynamically typed, no type declarations, data type is tracked at runtime\n",
    " * Automatic memory management\n",
    " \n",
    " <br>"
   ]
  },
  {
   "cell_type": "markdown",
   "metadata": {},
   "source": [
    "## What is IPython?\n",
    "\n",
    " IPython: an interactive command shell for Python (2001) by Fernando Perez\n",
    "* Enhanced Read-Eval-Print Loop (REPL) environment\n",
    "* Command tab-completion, color-highlighted error messages..\n",
    "* Basic Linux shell integration (cp, ls, rm…)\n",
    "* Great for plotting!\n",
    "* More information click _[ipython.org](http://ipython.org)_\n"
   ]
  },
  {
   "cell_type": "markdown",
   "metadata": {},
   "source": [
    "## Jupyter Notebook \n",
    "\n",
    "* Web interface to Python, introduced in 2015 \n",
    "* Rich text, improved graphical capabilities\n",
    "* Integrate many existing web libraries for data visualization\n",
    "* Allow to create and share documents that contain live code, equations, visualizations and explanatory text. \n",
    "* Interface with over 40 languages, such as R, Julia and Scala\n",
    "[back to top](#top)\n",
    "\n",
    "\n"
   ]
  },
  {
   "cell_type": "markdown",
   "metadata": {},
   "source": [
    "## Variables \n",
    "\n",
    "* Variable type is dynamically determined from the value it is assigned, no data type is declared\n",
    "* Assign meaningful variable names\n",
    "* Some keywords are reserved such as ‘print’, ‘assert’,  ‘while’, ‘lambda’. \n",
    "* A variable is assigned using the ‘=’ operator \n",
    "* Reference of [keys words](https://docs.python.org/2.5/ref/keywords.html)\n"
   ]
  },
  {
   "cell_type": "markdown",
   "metadata": {},
   "source": [
    "## Operators \n",
    "\n",
    "* Arithmetic operators +, -, *, /, // (integer division for  floating point numbers), ’**’ power\n",
    "* Boolean operators and, or and not\n",
    "* Comparison operators >, <, >= (greater or equal), <=\n",
    "* (less or equal), == equality\n",
    "\n"
   ]
  },
  {
   "cell_type": "markdown",
   "metadata": {},
   "source": [
    "<a id='data-type'></a>\n",
    "## Build-in Data Types   \n",
    "<font color=blue>\n",
    "* [Number](#numbers)\n",
    "* [String](#string)\n",
    "* [List](#list)\n",
    "* [Tuple](#tuple)\n",
    "* [Dictionary](#dic)\n",
    "* [File](#file)    \n",
    " </font>\n",
    " [top](#top)"
   ]
  },
  {
   "cell_type": "markdown",
   "metadata": {},
   "source": [
    "<a id='numbers'></a>\n",
    "## Numbers"
   ]
  },
  {
   "cell_type": "code",
   "execution_count": 29,
   "metadata": {},
   "outputs": [
    {
     "data": {
      "text/plain": [
       "int"
      ]
     },
     "execution_count": 29,
     "metadata": {},
     "output_type": "execute_result"
    }
   ],
   "source": [
    "x = 3\n",
    "type(x)"
   ]
  },
  {
   "cell_type": "code",
   "execution_count": 30,
   "metadata": {},
   "outputs": [
    {
     "data": {
      "text/plain": [
       "float"
      ]
     },
     "execution_count": 30,
     "metadata": {},
     "output_type": "execute_result"
    }
   ],
   "source": [
    "y = 3.0\n",
    "type (y)"
   ]
  },
  {
   "cell_type": "code",
   "execution_count": 31,
   "metadata": {},
   "outputs": [
    {
     "data": {
      "text/plain": [
       "str"
      ]
     },
     "execution_count": 31,
     "metadata": {},
     "output_type": "execute_result"
    }
   ],
   "source": [
    "z='hello'\n",
    "type(z)"
   ]
  },
  {
   "cell_type": "code",
   "execution_count": 32,
   "metadata": {},
   "outputs": [
    {
     "data": {
      "text/plain": [
       "3"
      ]
     },
     "execution_count": 32,
     "metadata": {},
     "output_type": "execute_result"
    }
   ],
   "source": [
    "int(3.3)"
   ]
  },
  {
   "cell_type": "code",
   "execution_count": 33,
   "metadata": {},
   "outputs": [
    {
     "data": {
      "text/plain": [
       "(3+0j)"
      ]
     },
     "execution_count": 33,
     "metadata": {},
     "output_type": "execute_result"
    }
   ],
   "source": [
    "complex(3)"
   ]
  },
  {
   "cell_type": "code",
   "execution_count": 34,
   "metadata": {},
   "outputs": [],
   "source": [
    "import math\n"
   ]
  },
  {
   "cell_type": "code",
   "execution_count": 35,
   "metadata": {},
   "outputs": [
    {
     "data": {
      "text/plain": [
       "3.3"
      ]
     },
     "execution_count": 35,
     "metadata": {},
     "output_type": "execute_result"
    }
   ],
   "source": [
    "abs(-3.3)"
   ]
  },
  {
   "cell_type": "code",
   "execution_count": 36,
   "metadata": {},
   "outputs": [
    {
     "data": {
      "text/plain": [
       "-0.3048106211022167"
      ]
     },
     "execution_count": 36,
     "metadata": {},
     "output_type": "execute_result"
    }
   ],
   "source": [
    "math.sin(60)"
   ]
  },
  {
   "cell_type": "code",
   "execution_count": 37,
   "metadata": {},
   "outputs": [
    {
     "data": {
      "text/plain": [
       "5.0"
      ]
     },
     "execution_count": 37,
     "metadata": {},
     "output_type": "execute_result"
    }
   ],
   "source": [
    "math.sqrt(25)"
   ]
  },
  {
   "cell_type": "markdown",
   "metadata": {},
   "source": [
    "<a id='string'></a>\n",
    "## Strings"
   ]
  },
  {
   "cell_type": "code",
   "execution_count": 38,
   "metadata": {},
   "outputs": [],
   "source": [
    "my_str = 'Hello World'"
   ]
  },
  {
   "cell_type": "code",
   "execution_count": 39,
   "metadata": {},
   "outputs": [
    {
     "name": "stdout",
     "output_type": "stream",
     "text": [
      "Hello World\n"
     ]
    },
    {
     "data": {
      "text/plain": [
       "11"
      ]
     },
     "execution_count": 39,
     "metadata": {},
     "output_type": "execute_result"
    }
   ],
   "source": [
    "print(my_str); len(my_str)"
   ]
  },
  {
   "cell_type": "code",
   "execution_count": 40,
   "metadata": {},
   "outputs": [
    {
     "name": "stdout",
     "output_type": "stream",
     "text": [
      "11\n"
     ]
    }
   ],
   "source": [
    "len(my_str); print(len(my_str))"
   ]
  },
  {
   "cell_type": "code",
   "execution_count": 41,
   "metadata": {},
   "outputs": [
    {
     "name": "stdout",
     "output_type": "stream",
     "text": [
      "H\n",
      "e\n",
      "d\n"
     ]
    }
   ],
   "source": [
    "#indexing starting at 0\n",
    "print(my_str[0]); print(my_str[1]); print(my_str[10])"
   ]
  },
  {
   "cell_type": "code",
   "execution_count": 42,
   "metadata": {},
   "outputs": [
    {
     "name": "stdout",
     "output_type": "stream",
     "text": [
      "ell\n",
      "Hello World\n",
      "ello World\n"
     ]
    }
   ],
   "source": [
    "#string slicing\n",
    "print(my_str[1:4]); print(my_str[:]); print(my_str[1:])"
   ]
  },
  {
   "cell_type": "code",
   "execution_count": 43,
   "metadata": {},
   "outputs": [
    {
     "name": "stdout",
     "output_type": "stream",
     "text": [
      "Hello\n",
      "World\n"
     ]
    }
   ],
   "source": [
    "#string split\n",
    "s1, s2 = my_str.split(); print(s1); print(s2)"
   ]
  },
  {
   "cell_type": "code",
   "execution_count": 44,
   "metadata": {},
   "outputs": [
    {
     "name": "stdout",
     "output_type": "stream",
     "text": [
      "This is a multi-line\n",
      "block of sample\n",
      " text\n"
     ]
    }
   ],
   "source": [
    "#multiple line spanning\n",
    "multilines= \"\"\"This is a multi-line\n",
    "block of sample\n",
    " text\"\"\"\n",
    "print(multilines)"
   ]
  },
  {
   "cell_type": "code",
   "execution_count": 45,
   "metadata": {},
   "outputs": [
    {
     "name": "stdout",
     "output_type": "stream",
     "text": [
      "3 pigs in the barn, I’ll huff and puff\n"
     ]
    }
   ],
   "source": [
    "#string formatting\n",
    "text = \"%d pigs in the barn, I’ll %s and %s\" %(3,'huff','puff')\n",
    "print(text)"
   ]
  },
  {
   "cell_type": "code",
   "execution_count": 46,
   "metadata": {},
   "outputs": [
    {
     "name": "stdout",
     "output_type": "stream",
     "text": [
      "my share = 24.50, tip = 5\n"
     ]
    }
   ],
   "source": [
    "total= \"my share = %.2f, tip = %d\" %(24.5, 5.5)\n",
    "print(total)"
   ]
  },
  {
   "cell_type": "code",
   "execution_count": 47,
   "metadata": {},
   "outputs": [
    {
     "name": "stdout",
     "output_type": "stream",
     "text": [
      "Hello World\n",
      "False\n",
      "False\n"
     ]
    }
   ],
   "source": [
    "#more string ops\n",
    "my_str=\"Hello World\"\n",
    "my_str.upper(); print(my_str)\n",
    "print(my_str.isalpha())\n",
    "\n",
    "print(my_str.isdigit())"
   ]
  },
  {
   "cell_type": "markdown",
   "metadata": {},
   "source": [
    "<a id='list'></a>\n",
    "## Lists\n",
    "* Collection of data [ ]\n",
    "* Often used to store homogeneous values\n",
    "    * e.g., Numbers, names with the same data type\n",
    "* Members are accessed as strings\n",
    "* Mutable: modify in place without creating a new object\n"
   ]
  },
  {
   "cell_type": "code",
   "execution_count": 48,
   "metadata": {},
   "outputs": [
    {
     "name": "stdout",
     "output_type": "stream",
     "text": [
      "[1, 2, 9, 4]\n"
     ]
    }
   ],
   "source": [
    "my_list = [1,2,9,4]\n",
    "print(my_list)\n",
    "#how to find out the data type?"
   ]
  },
  {
   "cell_type": "code",
   "execution_count": 49,
   "metadata": {},
   "outputs": [
    {
     "name": "stdout",
     "output_type": "stream",
     "text": [
      "[0, 1, 2, 3]\n"
     ]
    }
   ],
   "source": [
    "my_list2 = list(range(4))\n",
    "print(my_list2)"
   ]
  },
  {
   "cell_type": "code",
   "execution_count": 50,
   "metadata": {},
   "outputs": [
    {
     "name": "stdout",
     "output_type": "stream",
     "text": [
      "1st element = 1\n",
      "last element = 4\n"
     ]
    }
   ],
   "source": [
    "# access list members by index \n",
    "# start at 0, end at n-1\n",
    "print(\"1st element =\", my_list[0])\n",
    "print(\"last element =\", my_list[3])"
   ]
  },
  {
   "cell_type": "code",
   "execution_count": 51,
   "metadata": {},
   "outputs": [
    {
     "name": "stdout",
     "output_type": "stream",
     "text": [
      "[1, 2, 9, 4, 1, 2, 9, 4]\n",
      "[1, 2, 9, 4, 1, 2, 9, 4]\n",
      "[1, 2, 9, 4, 1, 2, 9, 4, 1, 2, 9, 4]\n"
     ]
    }
   ],
   "source": [
    "#Contatenate lists\n",
    "print(my_list + my_list)\n",
    "print(my_list *2)\n",
    "print(my_list *3)"
   ]
  },
  {
   "cell_type": "code",
   "execution_count": 52,
   "metadata": {},
   "outputs": [
    {
     "name": "stdout",
     "output_type": "stream",
     "text": [
      "dog\n",
      "cat\n",
      "horse\n"
     ]
    }
   ],
   "source": [
    "# iterate list elements\n",
    "animals = ['dog','cat','horse']\n",
    "for name in animals:\n",
    "    print(name)"
   ]
  },
  {
   "cell_type": "code",
   "execution_count": 53,
   "metadata": {},
   "outputs": [
    {
     "name": "stdout",
     "output_type": "stream",
     "text": [
      "0 dog\n",
      "1 cat\n",
      "2 horse\n"
     ]
    }
   ],
   "source": [
    "for index, name in enumerate(animals):\n",
    "    print(index, name)"
   ]
  },
  {
   "cell_type": "code",
   "execution_count": 54,
   "metadata": {},
   "outputs": [
    {
     "name": "stdout",
     "output_type": "stream",
     "text": [
      "[2, 9, 4]\n",
      "[2, 9, 4, 99]\n",
      "[2, 100, 9, 4, 99]\n"
     ]
    }
   ],
   "source": [
    "# modify list\n",
    "del my_list[0]; print(my_list)\n",
    "my_list.append(99); print(my_list)\n",
    "my_list.insert(1, 100); print(my_list)"
   ]
  },
  {
   "cell_type": "code",
   "execution_count": 55,
   "metadata": {},
   "outputs": [
    {
     "name": "stdout",
     "output_type": "stream",
     "text": [
      "[2, 4, 9, 99, 100]\n",
      "[100, 99, 9, 4, 2]\n"
     ]
    }
   ],
   "source": [
    "#some list funs\n",
    "my_list.sort(); print(my_list)\n",
    "my_list.reverse(); print(my_list)"
   ]
  },
  {
   "cell_type": "code",
   "execution_count": 56,
   "metadata": {},
   "outputs": [
    {
     "name": "stdout",
     "output_type": "stream",
     "text": [
      "['cats', 'DOGS', 'SHEEP', 'horses']\n",
      "['DOGS', 'SHEEP', 'cats', 'horses']\n",
      "['horses', 'cats', 'SHEEP', 'DOGS']\n"
     ]
    }
   ],
   "source": [
    "#more sorting\n",
    "my_list = ['cats', 'SHEEP','DOGS','horses']\n",
    "print(sorted(my_list, key=len))\n",
    "print(sorted(my_list))\n",
    "print(sorted(my_list, reverse=True))"
   ]
  },
  {
   "cell_type": "code",
   "execution_count": 57,
   "metadata": {},
   "outputs": [
    {
     "data": {
      "text/plain": [
       "['cats', 'DOGS', 'SHEEP', 'horses']"
      ]
     },
     "execution_count": 57,
     "metadata": {},
     "output_type": "execute_result"
    }
   ],
   "source": [
    "sorted(my_list, key=len)"
   ]
  },
  {
   "cell_type": "code",
   "execution_count": 58,
   "metadata": {},
   "outputs": [
    {
     "data": {
      "text/plain": [
       "['cats', 'DOGS', 'horses', 'SHEEP']"
      ]
     },
     "execution_count": 58,
     "metadata": {},
     "output_type": "execute_result"
    }
   ],
   "source": [
    "#??????\n",
    "sorted(my_list, key=str.lower)"
   ]
  },
  {
   "cell_type": "code",
   "execution_count": 59,
   "metadata": {},
   "outputs": [
    {
     "name": "stdout",
     "output_type": "stream",
     "text": [
      "square = [4, 25, 81, 1]\n",
      "large = [5, 9]\n"
     ]
    }
   ],
   "source": [
    "#list comprehension [expr for var in list]\n",
    "my_list=[2,5,9,1]\n",
    "square = [x**2 for x in my_list]; print(\"square =\", square)\n",
    "large = [n for n in my_list if n >= 5]; print('large =',large)"
   ]
  },
  {
   "cell_type": "markdown",
   "metadata": {},
   "source": [
    "<a id='tuple'></a>\n",
    "## Tuples\n",
    "* Not immutable\n",
    "* Why Tuple?\n",
    "* Processed faster than lists\n",
    "* Sequence of a Tuple is protected\n",
    "* Sequence unpacking"
   ]
  },
  {
   "cell_type": "code",
   "execution_count": 60,
   "metadata": {},
   "outputs": [
    {
     "name": "stdout",
     "output_type": "stream",
     "text": [
      "2 8\n"
     ]
    }
   ],
   "source": [
    "my_tup = (2, 8, 3, 1)\n",
    "a,b,c,d = my_tup\n",
    "print(a, b)"
   ]
  },
  {
   "cell_type": "code",
   "execution_count": 61,
   "metadata": {},
   "outputs": [
    {
     "name": "stdout",
     "output_type": "stream",
     "text": [
      "2\n"
     ]
    }
   ],
   "source": [
    "print(my_tup[0])"
   ]
  },
  {
   "cell_type": "markdown",
   "metadata": {},
   "source": [
    "<a id='dic'></a>\n",
    "## Dictoonary\n",
    "* List of key-value pairs { }\n",
    "* Unordered collections of objects, not indexed\n",
    "* Store objects in a random order to provide faster lookup\n",
    "* Data type are heterogeneous, unlike list\n",
    "* Element are accessed by a keyword, not index\n",
    "* Elements are mutable \n",
    "* dict = {\"key1”: value1,  “key2”: value2} "
   ]
  },
  {
   "cell_type": "code",
   "execution_count": 62,
   "metadata": {},
   "outputs": [
    {
     "name": "stdout",
     "output_type": "stream",
     "text": [
      "{'cats': 1, 'dogs': 2, 'sheep': 3}\n"
     ]
    }
   ],
   "source": [
    "my_dict = {'cats':1, 'dogs':2, 'sheep':3}\n",
    "print(my_dict)"
   ]
  },
  {
   "cell_type": "code",
   "execution_count": 63,
   "metadata": {},
   "outputs": [
    {
     "name": "stdout",
     "output_type": "stream",
     "text": [
      "2\n"
     ]
    }
   ],
   "source": [
    "print(my_dict['dogs'])"
   ]
  },
  {
   "cell_type": "code",
   "execution_count": 64,
   "metadata": {},
   "outputs": [
    {
     "name": "stdout",
     "output_type": "stream",
     "text": [
      "['cats', 'dogs', 'horse', 'sheep']\n"
     ]
    }
   ],
   "source": [
    "my_dict['horse'] = 3; print(sorted(my_dict))"
   ]
  },
  {
   "cell_type": "code",
   "execution_count": 65,
   "metadata": {},
   "outputs": [
    {
     "name": "stdout",
     "output_type": "stream",
     "text": [
      "dict_keys(['cats', 'dogs', 'sheep', 'horse'])\n",
      "dict_values([1, 2, 3, 3])\n"
     ]
    }
   ],
   "source": [
    "print(my_dict.keys()); print(my_dict.values())"
   ]
  },
  {
   "cell_type": "code",
   "execution_count": 66,
   "metadata": {},
   "outputs": [
    {
     "name": "stdout",
     "output_type": "stream",
     "text": [
      "cats 1\n",
      "dogs 2\n",
      "sheep 3\n",
      "horse 3\n"
     ]
    }
   ],
   "source": [
    "for key, value in my_dict.items():\n",
    "    print(key, value)"
   ]
  },
  {
   "cell_type": "markdown",
   "metadata": {},
   "source": [
    "<a id='file'></a>\n",
    "## Files\n",
    "* file open, close, read, write\n",
    "* file_handle = open(“file_name”, ‘mode’)\n",
    "    * Modes: \n",
    "    * a: append\n",
    "    * r: read only (error if not existing)\n",
    "    * w: write only\n",
    "    * r+: read/write (error if not existing)\n",
    "    * w+: read/write\n",
    "    * b: binary\n",
    "* Python has a built-in garbage collector\n",
    "* Object memory space is auto reclaimed once a file is no longer in use \n",
    "    "
   ]
  },
  {
   "cell_type": "code",
   "execution_count": 71,
   "metadata": {},
   "outputs": [
    {
     "name": "stdout",
     "output_type": "stream",
     "text": [
      "1800  1  1    -6.1    -6.1    -6.1 1\n",
      "1800  1  2   -15.4   -15.4   -15.4 1\n",
      "1800  1  3   -15.0   -15.0   -15.0 1\n",
      "1800  1  4   -19.3   -19.3   -19.3 1\n",
      "1800  1  5   -16.8   -16.8   -16.8 1\n",
      "1800  1  6   -11.4   -11.4   -11.4 1\n",
      "1800  1  7    -7.6    -7.6    -7.6 1\n",
      "1800  1  8    -7.1    -7.1    -7.1 1\n",
      "1800  1  9   -10.1   -10.1   -10.1 1\n",
      "1800  1 10    -9.5    -9.5    -9.5 1\n",
      "1800  1 11    -6.4    -6.4    -6.4 1\n",
      "1800  1 12    -5.8    -5.8    -5.8 1\n",
      "1800  1 13    -4.4    -4.4    -4.4 1\n",
      "1800  2 11    -9.0    -9.0    -9.0 1\n",
      "1800  2 12    -7.2    -7.2    -7.2 1\n",
      "1800  2 13    -7.8    -7.8    -7.8 1\n",
      "1800  2 14    -8.5    -8.5    -8.5 1\n",
      "1800  2 15    -8.2    -8.2    -8.2 1\n",
      "1800  2 16    -6.2    -6.2    -6.2 1\n",
      "1800  2 17    -1.5    -1.5    -1.5 1\n",
      "1800  2 18    -3.5    -3.5    -3.5 1\n",
      "1800  2 19    -7.2    -7.2    -7.2 1\n",
      "1800  2 20    -3.5    -3.5    -3.5 1\n",
      "1800  2 21    -1.5    -1.5    -1.5 1\n",
      "1800  2 22    -4.8    -4.8    -4.8 1\n",
      "1800  2 23    -8.6    -8.6    -8.6 1\n",
      "1800  2 24   -13.0   -13.0   -13.0 1\n",
      "1800  2 25   -11.6   -11.6   -11.6 1\n",
      "1800  2 26   -15.3   -15.3   -15.3 1\n",
      "1800  2 27   -17.0   -17.0   -17.0 1\n",
      "1800  2 28   -13.5   -13.5   -13.5 1\n",
      "1800  3  1    -8.8    -8.8    -8.8 1\n",
      "1800  3  2    -7.5    -7.5    -7.5 1\n",
      "1800  3  3    -8.1    -8.1    -8.1 1\n",
      "1800  3  4   -12.7   -12.7   -12.7 1\n",
      "1800  3  5   -14.4   -14.4   -14.4 1\n",
      "1800  3  6   -14.3   -14.3   -14.3 1\n",
      "1800  3  7    -9.4    -9.4    -9.4 1\n",
      "1800  3  8    -5.4    -5.4    -5.4 1\n",
      "1800  3  9   -10.4   -10.4   -10.4 1\n",
      "1800  3 10    -6.0    -6.0    -6.0 1\n",
      "1800  3 11    -4.4    -4.4    -4.4 1\n",
      "1800  3 12    -4.2    -4.2    -4.2 1\n",
      "1800  3 13    -6.1    -6.1    -6.1 1\n",
      "1800  4 15     5.2     5.2     5.2 1\n",
      "1800  4 16     6.2     6.2     6.2 1\n",
      "1800  4 17     6.2     6.2     6.2 1\n",
      "1800  4 18     6.5     6.5     6.5 1\n",
      "1800  4 19     3.8     3.8     3.8 1\n",
      "1800  4 20     7.7     7.7     7.7 1\n",
      "1800  4 21     9.3     9.3     9.3 1\n",
      "1800  4 22    11.3    11.3    11.3 1\n",
      "1800  4 23    10.3    10.3    10.3 1\n",
      "1800  4 24    12.8    12.8    12.8 1\n",
      "1800  4 25     8.7     8.7     8.7 1\n",
      "1800  4 26     7.9     7.9     7.9 1\n",
      "1800  4 27     6.3     6.3     6.3 1\n",
      "1800  4 28     8.0     8.0     8.0 1\n",
      "1800  4 29     9.0     9.0     9.0 1\n",
      "1800  4 30     9.5     9.5     9.5 1\n",
      "1800  5  1     6.2     6.2     6.2 1\n",
      "1800  5  2     7.2     7.2     7.2 1\n",
      "1800  5  3    12.0    12.0    12.0 1\n",
      "1800  5  4    12.1    12.1    12.1 1\n",
      "1800  5  5    15.4    15.4    15.3 1\n",
      "1800  5  6    14.1    14.1    14.0 1\n",
      "1800  5  7     8.7     8.7     8.6 1\n",
      "1800  5  8     7.7     7.7     7.6 1\n",
      "1800  5  9     5.1     5.1     5.0 1\n",
      "1800  5 10     0.4     0.4     0.2 1\n",
      "1800  6 16     8.3     8.3     7.6 1\n",
      "1800  6 17     6.2     6.2     5.5 1\n",
      "1800  6 18     7.0     7.0     6.3 1\n",
      "1800  6 19    10.6    10.6     9.9 1\n",
      "1800  6 20    12.1    12.1    11.4 1\n",
      "1800  6 21    10.3    10.3     9.6 1\n",
      "1800  6 22    12.4    12.4    11.7 1\n",
      "1800  6 23    13.1    13.1    12.4 1\n",
      "1800  6 24    13.7    13.7    13.0 1\n",
      "1800  6 25    17.1    17.1    16.4 1\n",
      "1800  6 26    16.0    16.0    15.3 1\n",
      "1800  6 27    14.1    14.1    13.4 1\n",
      "1800  6 28    14.5    14.5    13.8 1\n",
      "1800  6 29    15.1    15.1    14.4 1\n",
      "1800  6 30    14.0    14.0    13.3 1\n",
      "1800  7  1    13.0    13.0    12.3 1\n",
      "1800  7  2    13.7    13.7    13.0 1\n",
      "1800  7  3    12.2    12.2    11.5 1\n",
      "1800  7  4    14.3    14.3    13.6 1\n",
      "1800  7  5    16.1    16.1    15.4 1\n",
      "1800  7  6    13.7    13.7    13.0 1\n",
      "1800  7  7    15.8    15.8    15.1 1\n",
      "1800  7  8    19.4    19.4    18.7 1\n",
      "1800  7  9    17.9    17.9    17.2 1\n",
      "1800  7 10    16.3    16.3    15.6 1\n",
      "1800  7 11    17.5    17.5    16.8 1\n",
      "1800  7 12    12.8    12.8    12.1 1\n",
      "1800  7 13    12.6    12.6    11.9 1\n",
      "1800  8 13    20.5    20.5    20.1 1\n",
      "1800  8 14    22.1    22.1    21.8 1\n",
      "1800  8 15    21.1    21.1    20.8 1\n",
      "1800  8 16    16.0    16.0    15.7 1\n",
      "1800  8 17    16.7    16.7    16.4 1\n",
      "1800  8 18    15.7    15.7    15.4 1\n",
      "1800  8 19    14.3    14.3    14.1 1\n",
      "1800  8 20    14.9    14.9    14.7 1\n",
      "1800  8 21    12.0    12.0    11.8 1\n",
      "1800  8 22    11.4    11.4    11.2 1\n",
      "1800  8 23    12.9    12.9    12.8 1\n",
      "1800  8 24    12.4    12.4    12.3 1\n",
      "1800  8 25    14.5    14.5    14.4 1\n",
      "1800  8 26    13.6    13.6    13.5 1\n",
      "1800  8 27    14.6    14.6    14.5 1\n",
      "1800  8 28    15.8    15.8    15.8 1\n",
      "1800  8 29    14.5    14.5    14.5 1\n",
      "1800  8 30    15.0    15.0    15.0 1\n",
      "1800  8 31    15.7    15.7    15.7 1\n",
      "1800  9  1    13.4    13.4    13.4 1\n",
      "1800  9  2    12.4    12.4    12.4 1\n",
      "1800  9  3    14.5    14.5    14.5 1\n",
      "1800  9  4    16.4    16.4    16.4 1\n",
      "1800  9  5     9.8     9.8     9.8 1\n",
      "1800  9  6    10.0    10.0    10.0 1\n",
      "1800  9  7     9.8     9.8     9.8 1\n",
      "1800  9  8    11.8    11.8    11.8 1\n",
      "1800  9  9    12.8    12.8    12.8 1\n",
      "1800  9 10    12.6    12.6    12.6 1\n",
      "1800  9 11    11.1    11.1    11.1 1\n",
      "1800  9 12    10.8    10.8    10.8 1\n",
      "1800  9 13    14.4    14.4    14.4 1\n",
      "1800  9 14    14.5    14.5    14.5 1\n",
      "1800  9 15    14.9    14.9    14.9 1\n",
      "1800  9 16    15.6    15.6    15.6 1\n",
      "1800  9 17    12.1    12.1    12.1 1\n",
      "1800 10 10    12.3    12.3    12.3 1\n",
      "1800 10 11    10.2    10.2    10.2 1\n",
      "1800 10 12     7.2     7.2     7.2 1\n",
      "1800 10 13     6.6     6.6     6.6 1\n",
      "1800 10 14     8.6     8.6     8.6 1\n",
      "1800 10 15     8.9     8.9     8.9 1\n",
      "1800 10 16     3.7     3.7     3.7 1\n",
      "1800 10 17     2.2     2.2     2.2 1\n",
      "1800 10 18     5.5     5.5     5.5 1\n",
      "1800 10 19     4.7     4.7     4.7 1\n",
      "1800 10 20     8.2     8.2     8.2 1\n",
      "1800 10 21     8.9     8.9     8.9 1\n",
      "1800 10 22     2.2     2.2     2.2 1\n",
      "1800 10 23    -0.1    -0.1    -0.1 1\n",
      "1800 10 24     5.2     5.2     5.2 1\n",
      "1800 10 25    10.2    10.2    10.2 1\n",
      "1800 10 26     8.2     8.2     8.2 1\n",
      "1800 10 27     7.2     7.2     7.2 1\n",
      "1800 10 28     7.1     7.1     7.1 1\n",
      "1800 10 29     6.4     6.4     6.4 1\n",
      "1800 10 30     5.7     5.7     5.7 1\n",
      "1800 10 31     8.9     8.9     8.9 1\n",
      "1800 11  1     7.0     7.0     7.0 1\n",
      "1800 11  2     3.5     3.5     3.5 1\n",
      "1800 11  3     5.6     5.6     5.6 1\n",
      "1800 11  4     7.6     7.6     7.6 1\n",
      "1800 11  5     6.9     6.9     6.9 1\n",
      "1800 11  6     6.6     6.6     6.6 1\n",
      "1800 11  7     2.7     2.7     2.7 1\n",
      "1800 11  8     2.7     2.7     2.7 1\n",
      "1800 11  9     7.1     7.1     7.1 1\n",
      "1800 11 10     5.7     5.7     5.7 1\n",
      "1800 11 11     2.7     2.7     2.7 1\n",
      "1800 11 12     4.4     4.4     4.4 1\n",
      "1800 11 13     4.5     4.5     4.5 1\n",
      "1800 11 14     6.6     6.6     6.6 1\n",
      "1800 11 15     7.0     7.0     7.0 1\n",
      "1800 11 16     6.1     6.1     6.1 1\n",
      "1800 11 17     5.6     5.6     5.6 1\n",
      "1800 11 18     4.2     4.2     4.2 1\n",
      "1800 11 19    -1.1    -1.1    -1.1 1\n",
      "1800 10 10    12.3    12.3    12.3 1\n",
      "1800 10 11    10.2    10.2    10.2 1\n",
      "1800 10 12     7.2     7.2     7.2 1\n",
      "1800 10 13     6.6     6.6     6.6 1\n",
      "1800 10 14     8.6     8.6     8.6 1\n",
      "1800 10 15     8.9     8.9     8.9 1\n",
      "1800 10 16     3.7     3.7     3.7 1\n",
      "1800 10 17     2.2     2.2     2.2 1\n",
      "1800 10 18     5.5     5.5     5.5 1\n",
      "1800 10 19     4.7     4.7     4.7 1\n",
      "1800 10 20     8.2     8.2     8.2 1\n",
      "1800 10 21     8.9     8.9     8.9 1\n",
      "1800 10 22     2.2     2.2     2.2 1\n",
      "1800 10 23    -0.1    -0.1    -0.1 1\n",
      "1800 10 24     5.2     5.2     5.2 1\n",
      "1800 10 25    10.2    10.2    10.2 1\n",
      "1800 10 26     8.2     8.2     8.2 1\n",
      "1800 10 27     7.2     7.2     7.2 1\n",
      "1800 10 28     7.1     7.1     7.1 1\n",
      "1800 10 29     6.4     6.4     6.4 1\n",
      "1800 10 30     5.7     5.7     5.7 1\n",
      "1800 10 31     8.9     8.9     8.9 1\n",
      "1800 11  1     7.0     7.0     7.0 1\n",
      "1800 11  2     3.5     3.5     3.5 1\n",
      "1800 11  3     5.6     5.6     5.6 1\n",
      "1800 11  4     7.6     7.6     7.6 1\n",
      "1800 11  5     6.9     6.9     6.9 1\n",
      "1800 11  6     6.6     6.6     6.6 1\n",
      "1800 11  7     2.7     2.7     2.7 1\n",
      "1800 11  8     2.7     2.7     2.7 1\n",
      "1800 11  9     7.1     7.1     7.1 1\n",
      "1800 11 10     5.7     5.7     5.7 1\n",
      "1800 11 11     2.7     2.7     2.7 1\n",
      "1800 11 12     4.4     4.4     4.4 1\n",
      "1800 11 13     4.5     4.5     4.5 1\n",
      "1800 11 14     6.6     6.6     6.6 1\n",
      "1800 11 15     7.0     7.0     7.0 1\n",
      "1800 11 16     6.1     6.1     6.1 1\n",
      "1800 11 17     5.6     5.6     5.6 1\n",
      "1800 11 18     4.2     4.2     4.2 1\n",
      "1800 11 19    -1.1    -1.1    -1.1 1\n",
      "\n"
     ]
    }
   ],
   "source": [
    "# read a file\n",
    "input = open(\"stock.dat\", 'r')\n",
    "content = input.read()\n",
    "input.close()\n",
    "print(content)"
   ]
  },
  {
   "cell_type": "code",
   "execution_count": 72,
   "metadata": {},
   "outputs": [],
   "source": [
    "#write to a file\n",
    "output = open('write.txt','w')\n",
    "output.write(\"Writing to a file\")\n",
    "output.close()"
   ]
  },
  {
   "cell_type": "markdown",
   "metadata": {},
   "source": [
    "<a id='control'></a>\n",
    "## Control Structures \n",
    "<font color=blue>\n",
    "* if-else\n",
    "* for loops, while loops\n",
    "* break: jump out of the current loop\n",
    "* continue: jump to the top of next cycle within the loop\n",
    "* pass: do nothing \n",
    "</font> \n",
    "[top](#top)\n",
    "<div class='alert alert-block alert-info'> Tip Indentation: signify code blocks (very important) </div>"
   ]
  },
  {
   "cell_type": "code",
   "execution_count": 82,
   "metadata": {},
   "outputs": [
    {
     "name": "stdout",
     "output_type": "stream",
     "text": [
      "27 > 5\n"
     ]
    }
   ],
   "source": [
    "x = 27\n",
    "if ( x >= 5 ):\n",
    "    print(x, \"> 5\")\n",
    "else:\n",
    "    print(x, \"< 5\")\n",
    "    "
   ]
  },
  {
   "cell_type": "code",
   "execution_count": 83,
   "metadata": {},
   "outputs": [
    {
     "name": "stdout",
     "output_type": "stream",
     "text": [
      "0\n",
      "1\n",
      "2\n"
     ]
    }
   ],
   "source": [
    "\n",
    "for index in range(3):\n",
    "    print(index)"
   ]
  },
  {
   "cell_type": "code",
   "execution_count": 84,
   "metadata": {},
   "outputs": [
    {
     "name": "stdout",
     "output_type": "stream",
     "text": [
      "0\n",
      "1\n",
      "2\n"
     ]
    }
   ],
   "source": [
    "index=0\n",
    "while (index < 3):\n",
    "    print(index)\n",
    "    index = index + 1"
   ]
  },
  {
   "cell_type": "markdown",
   "metadata": {},
   "source": [
    "<div class='alert alert-block alert-danger'>  Tip: <div>\n",
    "Indentation: signify code blocks  <div>"
   ]
  },
  {
   "cell_type": "code",
   "execution_count": 85,
   "metadata": {},
   "outputs": [
    {
     "name": "stdout",
     "output_type": "stream",
     "text": [
      "3 is a prime #\n",
      "5 is a prime #\n",
      "5 is a prime #\n",
      "5 is a prime #\n",
      "7 is a prime #\n",
      "7 is a prime #\n",
      "7 is a prime #\n",
      "7 is a prime #\n",
      "7 is a prime #\n",
      "9 is a prime #\n"
     ]
    }
   ],
   "source": [
    "#prime numbers\n",
    "n = 2\n",
    "while n < 10:\n",
    "    prime = True\n",
    "    for x in range(2,n):\n",
    "        if n % x == 0:\n",
    "            prime = False\n",
    "            break\n",
    "        if prime:\n",
    "            print(n, 'is a prime #')\n",
    "            pass\n",
    "        else:\n",
    "            n= n + 1\n",
    "            continu\n",
    "    n = n + 1"
   ]
  },
  {
   "cell_type": "markdown",
   "metadata": {},
   "source": [
    "<a id='module'> </a>\n",
    "## Functions\n",
    "def func_name(par1, par2,...): \n",
    "> body of code\n",
    " \n",
    " [top](#top)    \n",
    "    "
   ]
  },
  {
   "cell_type": "code",
   "execution_count": 86,
   "metadata": {},
   "outputs": [
    {
     "data": {
      "text/plain": [
       "11"
      ]
     },
     "execution_count": 86,
     "metadata": {},
     "output_type": "execute_result"
    }
   ],
   "source": [
    "#addition\n",
    "def my_add(x, y):\n",
    "    return x+y\n",
    "\n",
    "my_add(3, 8)"
   ]
  },
  {
   "cell_type": "code",
   "execution_count": 87,
   "metadata": {},
   "outputs": [
    {
     "name": "stdout",
     "output_type": "stream",
     "text": [
      "squre = 9 cube = 27\n"
     ]
    }
   ],
   "source": [
    "#return multiple values\n",
    "def power(input):\n",
    "    return input**2, input**3\n",
    "\n",
    "square, cube = power(3)\n",
    "print(\"squre =\",square, \"cube =\",cube)"
   ]
  },
  {
   "cell_type": "markdown",
   "metadata": {},
   "source": [
    "<a id='module'> </a>\n",
    "## Python Module\n",
    "* A python script with python functions and statements\n",
    "* Import a module before having access to all the functions within\n",
    "* Most Python distributions come with plenty of build-in modules \n",
    "***\n",
    " [top](#top)"
   ]
  },
  {
   "cell_type": "markdown",
   "metadata": {},
   "source": [
    "\n",
    "## Python Modules\n",
    "* math, sys, os..\n",
    "* NumPy, high performance in vector & matrix using vector computation \n",
    "* SciPy: based on Numpy, including many scientific algorithms.\n",
    "* padas\n",
    "* matplotlib, pyplot, pylab\n",
    "\n",
    "Reference to [Python3.x standard libraries](https://docs.python.org/3/library/) \n"
   ]
  },
  {
   "cell_type": "code",
   "execution_count": 88,
   "metadata": {
    "scrolled": false
   },
   "outputs": [
    {
     "data": {
      "text/plain": [
       "1.2246467991473532e-16"
      ]
     },
     "execution_count": 88,
     "metadata": {},
     "output_type": "execute_result"
    }
   ],
   "source": [
    "#import a module\n",
    "import math\n",
    "math.sin(math.pi)"
   ]
  },
  {
   "cell_type": "code",
   "execution_count": 89,
   "metadata": {},
   "outputs": [
    {
     "data": {
      "text/plain": [
       "['__doc__',\n",
       " '__file__',\n",
       " '__loader__',\n",
       " '__name__',\n",
       " '__package__',\n",
       " '__spec__',\n",
       " 'acos',\n",
       " 'acosh',\n",
       " 'asin',\n",
       " 'asinh',\n",
       " 'atan',\n",
       " 'atan2',\n",
       " 'atanh',\n",
       " 'ceil',\n",
       " 'copysign',\n",
       " 'cos',\n",
       " 'cosh',\n",
       " 'degrees',\n",
       " 'e',\n",
       " 'erf',\n",
       " 'erfc',\n",
       " 'exp',\n",
       " 'expm1',\n",
       " 'fabs',\n",
       " 'factorial',\n",
       " 'floor',\n",
       " 'fmod',\n",
       " 'frexp',\n",
       " 'fsum',\n",
       " 'gamma',\n",
       " 'gcd',\n",
       " 'hypot',\n",
       " 'inf',\n",
       " 'isclose',\n",
       " 'isfinite',\n",
       " 'isinf',\n",
       " 'isnan',\n",
       " 'ldexp',\n",
       " 'lgamma',\n",
       " 'log',\n",
       " 'log10',\n",
       " 'log1p',\n",
       " 'log2',\n",
       " 'modf',\n",
       " 'nan',\n",
       " 'pi',\n",
       " 'pow',\n",
       " 'radians',\n",
       " 'sin',\n",
       " 'sinh',\n",
       " 'sqrt',\n",
       " 'tan',\n",
       " 'tanh',\n",
       " 'tau',\n",
       " 'trunc']"
      ]
     },
     "execution_count": 89,
     "metadata": {},
     "output_type": "execute_result"
    }
   ],
   "source": [
    "#get information of a module\n",
    "dir(math)"
   ]
  },
  {
   "cell_type": "code",
   "execution_count": 90,
   "metadata": {},
   "outputs": [
    {
     "name": "stdout",
     "output_type": "stream",
     "text": [
      "Help on module math:\n",
      "\n",
      "NAME\n",
      "    math\n",
      "\n",
      "MODULE REFERENCE\n",
      "    https://docs.python.org/3.6/library/math\n",
      "    \n",
      "    The following documentation is automatically generated from the Python\n",
      "    source files.  It may be incomplete, incorrect or include features that\n",
      "    are considered implementation detail and may vary between Python\n",
      "    implementations.  When in doubt, consult the module reference at the\n",
      "    location listed above.\n",
      "\n",
      "DESCRIPTION\n",
      "    This module is always available.  It provides access to the\n",
      "    mathematical functions defined by the C standard.\n",
      "\n",
      "FUNCTIONS\n",
      "    acos(...)\n",
      "        acos(x)\n",
      "        \n",
      "        Return the arc cosine (measured in radians) of x.\n",
      "    \n",
      "    acosh(...)\n",
      "        acosh(x)\n",
      "        \n",
      "        Return the inverse hyperbolic cosine of x.\n",
      "    \n",
      "    asin(...)\n",
      "        asin(x)\n",
      "        \n",
      "        Return the arc sine (measured in radians) of x.\n",
      "    \n",
      "    asinh(...)\n",
      "        asinh(x)\n",
      "        \n",
      "        Return the inverse hyperbolic sine of x.\n",
      "    \n",
      "    atan(...)\n",
      "        atan(x)\n",
      "        \n",
      "        Return the arc tangent (measured in radians) of x.\n",
      "    \n",
      "    atan2(...)\n",
      "        atan2(y, x)\n",
      "        \n",
      "        Return the arc tangent (measured in radians) of y/x.\n",
      "        Unlike atan(y/x), the signs of both x and y are considered.\n",
      "    \n",
      "    atanh(...)\n",
      "        atanh(x)\n",
      "        \n",
      "        Return the inverse hyperbolic tangent of x.\n",
      "    \n",
      "    ceil(...)\n",
      "        ceil(x)\n",
      "        \n",
      "        Return the ceiling of x as an Integral.\n",
      "        This is the smallest integer >= x.\n",
      "    \n",
      "    copysign(...)\n",
      "        copysign(x, y)\n",
      "        \n",
      "        Return a float with the magnitude (absolute value) of x but the sign \n",
      "        of y. On platforms that support signed zeros, copysign(1.0, -0.0) \n",
      "        returns -1.0.\n",
      "    \n",
      "    cos(...)\n",
      "        cos(x)\n",
      "        \n",
      "        Return the cosine of x (measured in radians).\n",
      "    \n",
      "    cosh(...)\n",
      "        cosh(x)\n",
      "        \n",
      "        Return the hyperbolic cosine of x.\n",
      "    \n",
      "    degrees(...)\n",
      "        degrees(x)\n",
      "        \n",
      "        Convert angle x from radians to degrees.\n",
      "    \n",
      "    erf(...)\n",
      "        erf(x)\n",
      "        \n",
      "        Error function at x.\n",
      "    \n",
      "    erfc(...)\n",
      "        erfc(x)\n",
      "        \n",
      "        Complementary error function at x.\n",
      "    \n",
      "    exp(...)\n",
      "        exp(x)\n",
      "        \n",
      "        Return e raised to the power of x.\n",
      "    \n",
      "    expm1(...)\n",
      "        expm1(x)\n",
      "        \n",
      "        Return exp(x)-1.\n",
      "        This function avoids the loss of precision involved in the direct evaluation of exp(x)-1 for small x.\n",
      "    \n",
      "    fabs(...)\n",
      "        fabs(x)\n",
      "        \n",
      "        Return the absolute value of the float x.\n",
      "    \n",
      "    factorial(...)\n",
      "        factorial(x) -> Integral\n",
      "        \n",
      "        Find x!. Raise a ValueError if x is negative or non-integral.\n",
      "    \n",
      "    floor(...)\n",
      "        floor(x)\n",
      "        \n",
      "        Return the floor of x as an Integral.\n",
      "        This is the largest integer <= x.\n",
      "    \n",
      "    fmod(...)\n",
      "        fmod(x, y)\n",
      "        \n",
      "        Return fmod(x, y), according to platform C.  x % y may differ.\n",
      "    \n",
      "    frexp(...)\n",
      "        frexp(x)\n",
      "        \n",
      "        Return the mantissa and exponent of x, as pair (m, e).\n",
      "        m is a float and e is an int, such that x = m * 2.**e.\n",
      "        If x is 0, m and e are both 0.  Else 0.5 <= abs(m) < 1.0.\n",
      "    \n",
      "    fsum(...)\n",
      "        fsum(iterable)\n",
      "        \n",
      "        Return an accurate floating point sum of values in the iterable.\n",
      "        Assumes IEEE-754 floating point arithmetic.\n",
      "    \n",
      "    gamma(...)\n",
      "        gamma(x)\n",
      "        \n",
      "        Gamma function at x.\n",
      "    \n",
      "    gcd(...)\n",
      "        gcd(x, y) -> int\n",
      "        greatest common divisor of x and y\n",
      "    \n",
      "    hypot(...)\n",
      "        hypot(x, y)\n",
      "        \n",
      "        Return the Euclidean distance, sqrt(x*x + y*y).\n",
      "    \n",
      "    isclose(...)\n",
      "        isclose(a, b, *, rel_tol=1e-09, abs_tol=0.0) -> bool\n",
      "        \n",
      "        Determine whether two floating point numbers are close in value.\n",
      "        \n",
      "           rel_tol\n",
      "               maximum difference for being considered \"close\", relative to the\n",
      "               magnitude of the input values\n",
      "            abs_tol\n",
      "               maximum difference for being considered \"close\", regardless of the\n",
      "               magnitude of the input values\n",
      "        \n",
      "        Return True if a is close in value to b, and False otherwise.\n",
      "        \n",
      "        For the values to be considered close, the difference between them\n",
      "        must be smaller than at least one of the tolerances.\n",
      "        \n",
      "        -inf, inf and NaN behave similarly to the IEEE 754 Standard.  That\n",
      "        is, NaN is not close to anything, even itself.  inf and -inf are\n",
      "        only close to themselves.\n",
      "    \n",
      "    isfinite(...)\n",
      "        isfinite(x) -> bool\n",
      "        \n",
      "        Return True if x is neither an infinity nor a NaN, and False otherwise.\n",
      "    \n",
      "    isinf(...)\n",
      "        isinf(x) -> bool\n",
      "        \n",
      "        Return True if x is a positive or negative infinity, and False otherwise.\n",
      "    \n",
      "    isnan(...)\n",
      "        isnan(x) -> bool\n",
      "        \n",
      "        Return True if x is a NaN (not a number), and False otherwise.\n",
      "    \n",
      "    ldexp(...)\n",
      "        ldexp(x, i)\n",
      "        \n",
      "        Return x * (2**i).\n",
      "    \n",
      "    lgamma(...)\n",
      "        lgamma(x)\n",
      "        \n",
      "        Natural logarithm of absolute value of Gamma function at x.\n",
      "    \n",
      "    log(...)\n",
      "        log(x[, base])\n",
      "        \n",
      "        Return the logarithm of x to the given base.\n",
      "        If the base not specified, returns the natural logarithm (base e) of x.\n",
      "    \n",
      "    log10(...)\n",
      "        log10(x)\n",
      "        \n",
      "        Return the base 10 logarithm of x.\n",
      "    \n",
      "    log1p(...)\n",
      "        log1p(x)\n",
      "        \n",
      "        Return the natural logarithm of 1+x (base e).\n",
      "        The result is computed in a way which is accurate for x near zero.\n",
      "    \n",
      "    log2(...)\n",
      "        log2(x)\n",
      "        \n",
      "        Return the base 2 logarithm of x.\n",
      "    \n",
      "    modf(...)\n",
      "        modf(x)\n",
      "        \n",
      "        Return the fractional and integer parts of x.  Both results carry the sign\n",
      "        of x and are floats.\n",
      "    \n",
      "    pow(...)\n",
      "        pow(x, y)\n",
      "        \n",
      "        Return x**y (x to the power of y).\n",
      "    \n",
      "    radians(...)\n",
      "        radians(x)\n",
      "        \n",
      "        Convert angle x from degrees to radians.\n",
      "    \n",
      "    sin(...)\n",
      "        sin(x)\n",
      "        \n",
      "        Return the sine of x (measured in radians).\n",
      "    \n",
      "    sinh(...)\n",
      "        sinh(x)\n",
      "        \n",
      "        Return the hyperbolic sine of x.\n",
      "    \n",
      "    sqrt(...)\n",
      "        sqrt(x)\n",
      "        \n",
      "        Return the square root of x.\n",
      "    \n",
      "    tan(...)\n",
      "        tan(x)\n",
      "        \n",
      "        Return the tangent of x (measured in radians).\n",
      "    \n",
      "    tanh(...)\n",
      "        tanh(x)\n",
      "        \n",
      "        Return the hyperbolic tangent of x.\n",
      "    \n",
      "    trunc(...)\n",
      "        trunc(x:Real) -> Integral\n",
      "        \n",
      "        Truncates x to the nearest Integral toward 0. Uses the __trunc__ magic method.\n",
      "\n",
      "DATA\n",
      "    e = 2.718281828459045\n",
      "    inf = inf\n",
      "    nan = nan\n",
      "    pi = 3.141592653589793\n",
      "    tau = 6.283185307179586\n",
      "\n",
      "FILE\n",
      "    /usr/local/packages/python/3.6.4-anaconda/lib/python3.6/lib-dynload/math.cpython-36m-x86_64-linux-gnu.so\n",
      "\n",
      "\n"
     ]
    }
   ],
   "source": [
    "#get information\n",
    "help(math)"
   ]
  },
  {
   "cell_type": "code",
   "execution_count": 91,
   "metadata": {
    "raw_mimetype": "text/x-python"
   },
   "outputs": [
    {
     "name": "stdout",
     "output_type": "stream",
     "text": [
      "Help on built-in function sin in module math:\n",
      "\n",
      "sin(...)\n",
      "    sin(x)\n",
      "    \n",
      "    Return the sine of x (measured in radians).\n",
      "\n"
     ]
    }
   ],
   "source": [
    "# get information of a module function \n",
    "help(math.sin)"
   ]
  },
  {
   "cell_type": "markdown",
   "metadata": {},
   "source": [
    " * Examples using os, commands modules\n",
    " * os: includes many functions interacting with the file system \n"
   ]
  },
  {
   "cell_type": "code",
   "execution_count": 92,
   "metadata": {},
   "outputs": [
    {
     "name": "stdout",
     "output_type": "stream",
     "text": [
      ".pbscheckgpu\n",
      "/tmp/.pbscheckgpu\n",
      ".ICE-unix\n",
      "/tmp/.ICE-unix\n",
      ".pbscheckpeak\n",
      "/tmp/.pbscheckpeak\n"
     ]
    }
   ],
   "source": [
    "import os\n",
    "def display_dir(dir):\n",
    "      files = os.listdir(dir)\n",
    "      for fname in files:\n",
    "        print(fname)\n",
    "        print(os.path.abspath(os.path.join(dir, fname))) \n",
    "\n",
    "display_dir('/tmp')"
   ]
  },
  {
   "cell_type": "markdown",
   "metadata": {},
   "source": [
    "<a id='numpy'> </a>\n",
    "## Numpy\n",
    "* [Create arrays](#array)\n",
    "* [Properties](#prop)\n",
    "* [File I/O](#file)\n",
    "* [Operations](#op)\n",
    "***\n",
    " [top](#top)"
   ]
  },
  {
   "cell_type": "markdown",
   "metadata": {},
   "source": [
    "* Provide basic functions for large arrays and matrices\n",
    "* A Python library that provides a multidimensional array object\n",
    "* Fast operations on arrays\n",
    "  * mathematical, logical, shape manipulation \n",
    "  * sorting, selecting, I/O\n",
    "  * discrete Fourier transforms, basic linear algebra\n",
    "  * basic statistical operations\n",
    "  * random simulation and much more."
   ]
  },
  {
   "cell_type": "code",
   "execution_count": 93,
   "metadata": {},
   "outputs": [
    {
     "name": "stdout",
     "output_type": "stream",
     "text": [
      "a [4 5 6 7]\n",
      "b [-1  0  1  2]\n",
      "a+b [3 5 7 9]\n",
      "a*b [-4  0  6 14]\n",
      "0\n",
      "1\n",
      "2\n",
      "3\n"
     ]
    }
   ],
   "source": [
    "import numpy as np\n",
    "a = np.array([4,5,6,7])\n",
    "b = np.array(range(-1, 3, 1))\n",
    "print(\"a\",a)\n",
    "print(\"b\",b)\n",
    "print(\"a+b\", a+b)\n",
    "print('a*b', a*b)\n",
    "for i in range(4):\n",
    "    print(i)\n",
    "    "
   ]
  },
  {
   "cell_type": "markdown",
   "metadata": {},
   "source": [
    "<a id='array'></a>\n",
    "### Create Arrays"
   ]
  },
  {
   "cell_type": "code",
   "execution_count": 94,
   "metadata": {},
   "outputs": [
    {
     "name": "stdout",
     "output_type": "stream",
     "text": [
      "a [2 3 4]\n",
      "arange [4 6 8]\n",
      "linspace [1.         1.44444444 1.88888889 2.33333333 2.77777778 3.22222222\n",
      " 3.66666667 4.11111111 4.55555556 5.        ]\n",
      "logspace [2.00000000e+00 5.64316032e+07 1.59226292e+15 4.49269746e+22\n",
      " 1.26765060e+30]\n",
      "[[1. 0. 0. 0.]\n",
      " [0. 1. 0. 0.]\n",
      " [0. 0. 1. 0.]\n",
      " [0. 0. 0. 1.]]\n",
      "c [[0. 0. 0.]\n",
      " [0. 0. 0.]]\n",
      "d [[1. 1. 1. 1. 1.]\n",
      " [1. 1. 1. 1. 1.]]\n",
      "[0 0 0]\n",
      "[1 1 1]\n"
     ]
    }
   ],
   "source": [
    "# create array from a list\n",
    "a = np.array([2,3,4]); print('a', a)\n",
    "\n",
    "# arange [start, stop, interval, datatype]\n",
    "b=np.arange(4, 10.0, 2, np.int64); print(\"arange\",b)\n",
    "\n",
    "# linspace including both ends {start, stop, num=50, endpoint=True}\n",
    "c=np.linspace(1,5, 10); print('linspace',c)\n",
    "\n",
    "# create array on log scale {start, stop, num=50, endpoint=True, base=10}\n",
    "d=np.logspace(1,100, 5, base=2); print('logspace',d)\n",
    "\n",
    "# create a square array with ones on the main diagonal\n",
    "y=np.identity(4); print(y)\n",
    "\n",
    "\n",
    "# Initialize w/ 0s or 1s\n",
    "c = np.zeros((2,3)); print(\"c\",c)\n",
    "d = np.ones((2, 5)); print(\"d\", d); \n",
    "a.fill(0); print(a)\n",
    "a[:] = 1; print(a)\n",
    "\n"
   ]
  },
  {
   "cell_type": "code",
   "execution_count": 95,
   "metadata": {},
   "outputs": [
    {
     "name": "stdout",
     "output_type": "stream",
     "text": [
      "[1 1 1]\n",
      "[4 6 8]\n"
     ]
    }
   ],
   "source": [
    "np.mgrid[0:5, 0:7]\n",
    "print(a); print(b)"
   ]
  },
  {
   "cell_type": "code",
   "execution_count": null,
   "metadata": {},
   "outputs": [],
   "source": []
  },
  {
   "cell_type": "markdown",
   "metadata": {},
   "source": [
    "<a id='prop'></a>\n",
    "### Numpy array properties"
   ]
  },
  {
   "cell_type": "code",
   "execution_count": 96,
   "metadata": {},
   "outputs": [
    {
     "name": "stdout",
     "output_type": "stream",
     "text": [
      "int64\n",
      "[1 1 1]\n",
      "(3,)\n",
      "3\n",
      "1\n"
     ]
    }
   ],
   "source": [
    "# numpy array properties\n",
    "print(a.dtype); print(a)\n",
    "print(a.shape)  # dimensions\n",
    "print(a.size)   # number of elements\n",
    "print(a.ndim)   # number of dimensions\n"
   ]
  },
  {
   "cell_type": "markdown",
   "metadata": {},
   "source": [
    "<a id='file'></a>\n",
    "### Numpy File I/O"
   ]
  },
  {
   "cell_type": "code",
   "execution_count": 97,
   "metadata": {},
   "outputs": [
    {
     "name": "stdout",
     "output_type": "stream",
     "text": [
      "1800  1  1    -6.1    -6.1    -6.1 1\r\n",
      "1800  1  2   -15.4   -15.4   -15.4 1\r\n",
      "1800  1  3   -15.0   -15.0   -15.0 1\r\n",
      "1800  1  4   -19.3   -19.3   -19.3 1\r\n",
      "1800  1  5   -16.8   -16.8   -16.8 1\r\n",
      "1800  1  6   -11.4   -11.4   -11.4 1\r\n",
      "1800  1  7    -7.6    -7.6    -7.6 1\r\n",
      "1800  1  8    -7.1    -7.1    -7.1 1\r\n",
      "1800  1  9   -10.1   -10.1   -10.1 1\r\n",
      "1800  1 10    -9.5    -9.5    -9.5 1\r\n"
     ]
    }
   ],
   "source": [
    "# comma-separated values (CSV), or related format such as TSV (tab-separated values)\n",
    "# read data into Numpy arrays using genfromtxt\n",
    "\n",
    "!head stock.dat\n",
    "data=np.genfromtxt('stock.dat', delimiter=','); \n",
    "#np.load('stock.dat')\n"
   ]
  },
  {
   "cell_type": "code",
   "execution_count": 98,
   "metadata": {},
   "outputs": [
    {
     "name": "stdout",
     "output_type": "stream",
     "text": [
      "[[0.63262726 0.9892295  0.60003398 0.05039251]\n",
      " [0.2504262  0.12591171 0.97628739 0.65843141]\n",
      " [0.75870516 0.78154427 0.69789059 0.05451367]\n",
      " [0.98401326 0.22861649 0.11319596 0.61009093]]\n",
      "0.63263 0.98923 0.60003 0.05039\n",
      "0.25043 0.12591 0.97629 0.65843\n",
      "0.75871 0.78154 0.69789 0.05451\n",
      "0.98401 0.22862 0.11320 0.61009\n"
     ]
    }
   ],
   "source": [
    "#store and save arrays into a file\n",
    "m = np.random.rand(4,4); print(m)\n",
    "np.savetxt('random_m.csv', m, fmt='%.5f')\n",
    "!cat random_m.csv"
   ]
  },
  {
   "cell_type": "code",
   "execution_count": 99,
   "metadata": {},
   "outputs": [
    {
     "name": "stdout",
     "output_type": "stream",
     "text": [
      "[(1,   3.385,  44.5 , b'abjhk') (2,   0.48 ,  33.38, b'bc_00asdk')\n",
      " (3,   1.35 ,   8.1 , b'fb') (4, 465.   , 423.  , b'cer')\n",
      " (5,  36.33 , 119.5 , b'rg') (6,  27.66 , 115.  , b'rk')\n",
      " (7,  14.83 ,  98.2 , b'fff') (8,   1.04 ,   5.5 , b'zxs')\n",
      " (9,   4.19 ,  58.  , b'kij')]\n"
     ]
    },
    {
     "name": "stderr",
     "output_type": "stream",
     "text": [
      "/usr/local/packages/python/3.6.4-anaconda/lib/python3.6/site-packages/ipykernel_launcher.py:2: VisibleDeprecationWarning: Reading unicode strings without specifying the encoding argument is deprecated. Set the encoding, use None for the system default.\n",
      "  \n"
     ]
    }
   ],
   "source": [
    "#!cat intpython/data.txt\n",
    "data2=np.genfromtxt(u'data.txt', skip_header=16, dtype=None)\n",
    "print(data2)"
   ]
  },
  {
   "cell_type": "code",
   "execution_count": 100,
   "metadata": {},
   "outputs": [],
   "source": [
    "data2=np.loadtxt('data.txt', skiprows=16, usecols={0,1,2}, comments='#', dtype=None)\n"
   ]
  },
  {
   "cell_type": "markdown",
   "metadata": {},
   "source": [
    "<a id='op'></a>\n",
    "### Numpy Operations"
   ]
  },
  {
   "cell_type": "code",
   "execution_count": 107,
   "metadata": {},
   "outputs": [
    {
     "name": "stdout",
     "output_type": "stream",
     "text": [
      "[ 0  1  2  3  4  5  6  7  8  9 10 11 12 13 14 15 16 17 18 19 20 21 22 23\n",
      " 24 25 26 27 28 29 30 31]\n",
      "1\n",
      "(32,)\n",
      "[[ 0  1  2  3  4  5  6  7]\n",
      " [ 8  9 10 11 12 13 14 15]\n",
      " [16 17 18 19 20 21 22 23]\n",
      " [24 25 26 27 28 29 30 31]]\n",
      "2\n",
      "(4, 8)\n"
     ]
    },
    {
     "data": {
      "text/plain": [
       "array([ 0,  1,  2,  3,  4,  5,  6,  7,  8,  9, 10, 11, 12, 13, 14, 15, 16,\n",
       "       17, 18, 19, 20, 21, 22, 23, 24, 25, 26, 27, 28, 29, 30, 31])"
      ]
     },
     "execution_count": 107,
     "metadata": {},
     "output_type": "execute_result"
    }
   ],
   "source": [
    "#reshape array structures\n",
    "a=np.arange(32); print(a); print(a.ndim); print(a.shape)\n",
    "b=a.reshape(4,-1)\n",
    "print(b); print(b.ndim); print(b.shape)\n",
    "b.flatten()"
   ]
  },
  {
   "cell_type": "code",
   "execution_count": 108,
   "metadata": {},
   "outputs": [
    {
     "name": "stdout",
     "output_type": "stream",
     "text": [
      "32\n",
      "[[ 0  1  2  3  4  5  6  7]\n",
      " [ 8  9 10 11 12 13 14 15]\n",
      " [16 17 18 19 20 21 22 23]\n",
      " [24 25 26 27 28 29 30 31]]\n",
      "2\n",
      "[ 0  8 16 24]\n",
      "[0 1 2 3 4 5 6 7]\n",
      "0\n"
     ]
    }
   ],
   "source": [
    "# Indexing from 0:N-1\n",
    "print(b.size); print(b); print(b.ndim)\n",
    "print(b[:,0])  # all the rows from 1st colume\n",
    "print(b[0,:])  # all the columes from 1st row\n",
    "print(b[0,0])"
   ]
  },
  {
   "cell_type": "code",
   "execution_count": 109,
   "metadata": {},
   "outputs": [
    {
     "name": "stdout",
     "output_type": "stream",
     "text": [
      "[1 2 3 4 5]\n",
      "[1 3 5]\n",
      "[4 5]\n",
      "[1 2 3]\n"
     ]
    }
   ],
   "source": [
    "# Slicing:to extract part of an array [lower:upper:step]\n",
    "A = np.array([1,2,3,4,5])\n",
    "print(A[::])\n",
    "print(A[::2])\n",
    "print(A[3:])  #element from index 3\n",
    "print(A[:3])  #first 3 elements"
   ]
  },
  {
   "cell_type": "code",
   "execution_count": 110,
   "metadata": {},
   "outputs": [
    {
     "name": "stdout",
     "output_type": "stream",
     "text": [
      "[[ 0  1  2  3  4  5]\n",
      " [10 11 12 13 14 15]\n",
      " [20 21 22 23 24 25]\n",
      " [30 31 32 33 34 35]\n",
      " [40 41 42 43 44 45]\n",
      " [50 51 52 53 54 55]\n",
      " [60 61 62 63 64 65]]\n"
     ]
    },
    {
     "data": {
      "text/plain": [
       "array([[10, 11, 12, 13, 14, 15],\n",
       "       [20, 21, 22, 23, 24, 25],\n",
       "       [30, 31, 32, 33, 34, 35]])"
      ]
     },
     "execution_count": 110,
     "metadata": {},
     "output_type": "execute_result"
    }
   ],
   "source": [
    "# Fancy nndexing: when an array/list is used in place of an index\n",
    "A=np.array([[n+m*10 for n in range(6)] for m in range(7)]); print(A)\n",
    "row_index=[1,2,3]\n",
    "A[row_index]\n"
   ]
  },
  {
   "cell_type": "code",
   "execution_count": 111,
   "metadata": {},
   "outputs": [
    {
     "data": {
      "text/plain": [
       "array([11, 22, 35])"
      ]
     },
     "execution_count": 111,
     "metadata": {},
     "output_type": "execute_result"
    }
   ],
   "source": [
    "col_index=[1,2,-1]\n",
    "A[row_index,col_index]"
   ]
  },
  {
   "cell_type": "code",
   "execution_count": 112,
   "metadata": {},
   "outputs": [
    {
     "name": "stdout",
     "output_type": "stream",
     "text": [
      "[0 1 2 3]\n"
     ]
    },
    {
     "data": {
      "text/plain": [
       "array([0, 1])"
      ]
     },
     "execution_count": 112,
     "metadata": {},
     "output_type": "execute_result"
    }
   ],
   "source": [
    "# Index mask\n",
    "B=np.array(range(4)); print(B)\n",
    "row_mask=np.array([True, True, False, False])\n",
    "B[row_mask]\n",
    "#row_mask2=np.array([1,1,0,0], dtype=bool)\n",
    "#B[row_mask2]"
   ]
  },
  {
   "cell_type": "markdown",
   "metadata": {},
   "source": [
    "#### Element-wise array operations"
   ]
  },
  {
   "cell_type": "code",
   "execution_count": 113,
   "metadata": {},
   "outputs": [
    {
     "name": "stdout",
     "output_type": "stream",
     "text": [
      "1800  1  1    -6.1    -6.1    -6.1 1\r\n",
      "1800  1  2   -15.4   -15.4   -15.4 1\r\n",
      "1800  1  3   -15.0   -15.0   -15.0 1\r\n",
      "1800  1  4   -19.3   -19.3   -19.3 1\r\n",
      "1800  1  5   -16.8   -16.8   -16.8 1\r\n",
      "1800  1  6   -11.4   -11.4   -11.4 1\r\n",
      "1800  1  7    -7.6    -7.6    -7.6 1\r\n",
      "1800  1  8    -7.1    -7.1    -7.1 1\r\n",
      "1800  1  9   -10.1   -10.1   -10.1 1\r\n",
      "1800  1 10    -9.5    -9.5    -9.5 1\r\n"
     ]
    }
   ],
   "source": [
    "!head stock.dat\n",
    "\n",
    "import numpy as np\n",
    "data2=np.genfromtxt('stock.dat')\n",
    "#np.shape(data); print(data);print(data[:,3])\n",
    "#np.mean(data[:,3]) #temprature data\n"
   ]
  },
  {
   "cell_type": "code",
   "execution_count": 114,
   "metadata": {},
   "outputs": [
    {
     "data": {
      "text/plain": [
       "(8.66167312961653, 75.02458140432101)"
      ]
     },
     "execution_count": 114,
     "metadata": {},
     "output_type": "execute_result"
    }
   ],
   "source": [
    "#standard deviation and variance\n",
    "np.std(data2[:,3]), np.var(data2[:,3])  "
   ]
  },
  {
   "cell_type": "code",
   "execution_count": 115,
   "metadata": {},
   "outputs": [
    {
     "data": {
      "text/plain": [
       "-19.3"
      ]
     },
     "execution_count": 115,
     "metadata": {},
     "output_type": "execute_result"
    }
   ],
   "source": [
    "#min, max\n",
    "data2[:,3].min()\n"
   ]
  },
  {
   "cell_type": "markdown",
   "metadata": {},
   "source": [
    "#### Data processing\n"
   ]
  },
  {
   "cell_type": "markdown",
   "metadata": {},
   "source": [
    "<a id='plot'> </a>\n",
    "## Python Plotting\n",
    " [top](#top)"
   ]
  },
  {
   "cell_type": "markdown",
   "metadata": {},
   "source": [
    "* matplotlib: library for plotting 2D graphics\n",
    "* pyplot: a wrapper module to provide Matlab-style interface to matplotlib\n",
    "* pylab: numpy plus pyplot\n"
   ]
  },
  {
   "cell_type": "code",
   "execution_count": 120,
   "metadata": {},
   "outputs": [
    {
     "data": {
      "image/png": "[encoded data removed]",
      "text/plain": [
       "<matplotlib.figure.Figure at 0x2ab25b907b70>"
      ]
     },
     "metadata": {},
     "output_type": "display_data"
    }
   ],
   "source": [
    "\n",
    "import matplotlib.pyplot as plt\n",
    "import numpy as np\n",
    "data=np.linspace(-np.pi, np.pi, 50); \n",
    "sin, cos =np.sin(data), np.cos(data)\n",
    "plt.plot(data, sin, 'b-*', data, cos,'r-s')\n",
    "plt.title(\"plot example\")\n",
    "plt.xlabel('x')\n",
    "plt.ylabel('sin/con')\n",
    "#figure legend\n",
    "plt.legend(['sin','cos'])\n",
    "plt.show()\n"
   ]
  },
  {
   "cell_type": "code",
   "execution_count": 121,
   "metadata": {},
   "outputs": [
    {
     "data": {
      "image/png": "[encoded data removed]",
      "text/plain": [
       "<matplotlib.figure.Figure at 0x2ab25b460940>"
      ]
     },
     "metadata": {},
     "output_type": "display_data"
    },
    {
     "data": {
      "image/png": "[encoded data removed]",
      "text/plain": [
       "<matplotlib.figure.Figure at 0x2ab25b1be748>"
      ]
     },
     "metadata": {},
     "output_type": "display_data"
    }
   ],
   "source": [
    "#plotting separate figures\n",
    "plt.figure()\n",
    "plt.plot(sin, label='sin')\n",
    "plt.legend()\n",
    "#2nd figure\n",
    "plt.figure()\n",
    "plt.plot(cos, label='cos')\n",
    "plt.legend()\n",
    "plt.show()\n",
    "plt.clf()\n",
    "plt.close('all')\n"
   ]
  },
  {
   "cell_type": "code",
   "execution_count": 123,
   "metadata": {},
   "outputs": [
    {
     "data": {
      "image/png": "[encoded data removed]",
      "text/plain": [
       "<matplotlib.figure.Figure at 0x2ab239d30d68>"
      ]
     },
     "metadata": {},
     "output_type": "display_data"
    }
   ],
   "source": [
    "# subplot on the same figure\n",
    "# subplot(rows, columns, active_plot)\n",
    "plt.subplot(2,1,1)\n",
    "plt.plot(sin, 'r-+')\n",
    "#2nd subplot\n",
    "plt.subplot(2,1,2)\n",
    "plt.plot(cos, 'b-o')\n",
    "#plt.close()\n",
    "plt.show()"
   ]
  },
  {
   "cell_type": "code",
   "execution_count": 127,
   "metadata": {},
   "outputs": [
    {
     "data": {
      "image/png": "[encoded data removed]",
      "text/plain": [
       "<matplotlib.figure.Figure at 0x2ab25bf154e0>"
      ]
     },
     "metadata": {},
     "output_type": "display_data"
    }
   ],
   "source": [
    "x=['Jan', 'Feb', 'Mar', 'Apr']\n",
    "y=[ 34, 17, 13, 69]\n",
    "plt.bar(x, y, color='red')\n",
    "plt.title(\"Sale by Month\")\n",
    "plt.xlabel('Month')\n",
    "plt.ylabel('Sale')\n",
    "plt.show()"
   ]
  }
 ],
 "metadata": {
  "celltoolbar": "Raw Cell Format",
  "kernelspec": {
   "display_name": "Python 3",
   "language": "python",
   "name": "python3"
  },
  "language_info": {
   "codemirror_mode": {
    "name": "ipython",
    "version": 3
   },
   "file_extension": ".py",
   "mimetype": "text/x-python",
   "name": "python",
   "nbconvert_exporter": "python",
   "pygments_lexer": "ipython3",
   "version": "3.6.4"
  }
 },
 "nbformat": 4,
 "nbformat_minor": 2
}
