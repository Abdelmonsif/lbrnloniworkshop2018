{
 "cells": [
  {
   "cell_type": "markdown",
   "metadata": {},
   "source": [
    "\n",
    " #  Python Programming\n",
    "##  Summer Workshop 2018 \n",
    "## LSU HPC & LONI\n"
   ]
  },
  {
   "cell_type": "markdown",
   "metadata": {},
   "source": [
    "<a id=\"top\"></a>\n",
    "### Login to shelob \n",
    "\n",
    "### Start an interactive session\n",
    " \n",
    "### Lauch jupyter notebook  \n",
    "***"
   ]
  },
  {
   "cell_type": "markdown",
   "metadata": {},
   "source": [
    "<a id='overview'></a>\n",
    "# Topics Covered\n",
    "<font color=blue>\n",
    " * [What is Python](#intro)\n",
    " * [Python programming basics](#data-type)\n",
    " * [Control structures and functions](#control)\n",
    " * [Python modules](#module)\n",
    " * [Numpy](#numpy)\n",
    " * [Plotting](#plot)</font>\n",
    "<br>"
   ]
  },
  {
   "cell_type": "markdown",
   "metadata": {},
   "source": [
    "<a id='intro'></a>\n",
    "## What is Python?\n",
    "\n",
    " * A general-purpose programming language (1980) by Guido van Rossum\n",
    " * Intuitive and minimal coding\n",
    " * Objected-Oriented\n",
    " * Interpreted not compiled\n",
    " * Interactive\n",
    " * Dynamically typed, no type declarations, data type is tracked at runtime\n",
    " * Automatic memory management\n",
    "  <br>"
   ]
  },
  {
   "cell_type": "markdown",
   "metadata": {},
   "source": [
    "## What is IPython?\n",
    "\n",
    " IPython: an interactive command shell for Python (2001) by Fernando Perez\n",
    "* Enhanced Read-Eval-Print Loop (REPL) environment\n",
    "* Command tab-completion, color-highlighted error messages..\n",
    "* Basic Linux shell integration (cp, ls, rm…)\n",
    "* Great for plotting!\n",
    "* More information click _[ipython.org](http://ipython.org)_\n"
   ]
  },
  {
   "cell_type": "markdown",
   "metadata": {},
   "source": [
    "## Jupyter Notebook \n",
    "\n",
    "* Web interface to Python, introduced in 2015 \n",
    "* Rich text, improved graphical capabilities\n",
    "* Integrate many existing web libraries for data visualization\n",
    "* Allow to create and share documents that contain live code, equations, visualizations and explanatory text. \n",
    "* Interface with over 40 languages, such as R, Julia and Scala\n",
    "[back to top](#top)\n",
    "\n",
    "\n"
   ]
  },
  {
   "cell_type": "markdown",
   "metadata": {},
   "source": [
    "## Variables \n",
    "\n",
    "* Variable type is dynamically determined from the value it is assigned, no data type is declared\n",
    "* Assign meaningful variable names\n",
    "* Some keywords are reserved such as ‘print’, ‘assert’,  ‘while’, ‘lambda’. \n",
    "* A variable is assigned using the ‘=’ operator \n",
    "* Reference of [keys words](https://docs.python.org/2.5/ref/keywords.html)\n"
   ]
  },
  {
   "cell_type": "markdown",
   "metadata": {},
   "source": [
    "## Operators \n",
    "\n",
    "* Arithmetic operators +, -, *, /, // (integer division for  floating point numbers), ’**’ power\n",
    "* Boolean operators and, or and not\n",
    "* Comparison operators >, <, >= (greater or equal), <=\n",
    "* (less or equal), == equality\n",
    "\n"
   ]
  },
  {
   "cell_type": "markdown",
   "metadata": {},
   "source": [
    "<a id='data-type'></a>\n",
    "## Build-in Data Types   \n",
    "<font color=blue>\n",
    "* [Number](#numbers)\n",
    "* [String](#string)\n",
    "* [List](#list)\n",
    "* [Tuple](#tuple)\n",
    "* [Dictionary](#dic)\n",
    "* [File](#file)    \n",
    " </font>\n",
    " [top](#top)"
   ]
  },
  {
   "cell_type": "markdown",
   "metadata": {},
   "source": [
    "<a id='numbers'></a>\n",
    "## Numbers"
   ]
  },
  {
   "cell_type": "code",
   "execution_count": null,
   "metadata": {},
   "outputs": [],
   "source": [
    "x = 3\n",
    "type(x)"
   ]
  },
  {
   "cell_type": "code",
   "execution_count": 7,
   "metadata": {},
   "outputs": [
    {
     "data": {
      "text/plain": [
       "float"
      ]
     },
     "execution_count": 7,
     "metadata": {},
     "output_type": "execute_result"
    }
   ],
   "source": [
    "y = 3.0\n",
    "type (y)"
   ]
  },
  {
   "cell_type": "code",
   "execution_count": null,
   "metadata": {},
   "outputs": [],
   "source": [
    "z='hello'\n",
    "type(z)"
   ]
  },
  {
   "cell_type": "code",
   "execution_count": null,
   "metadata": {},
   "outputs": [],
   "source": [
    "int(3.3)"
   ]
  },
  {
   "cell_type": "code",
   "execution_count": null,
   "metadata": {},
   "outputs": [],
   "source": [
    "complex(3)"
   ]
  },
  {
   "cell_type": "code",
   "execution_count": 14,
   "metadata": {},
   "outputs": [],
   "source": [
    "import math"
   ]
  },
  {
   "cell_type": "code",
   "execution_count": null,
   "metadata": {},
   "outputs": [],
   "source": [
    "abs(-3.3)"
   ]
  },
  {
   "cell_type": "code",
   "execution_count": null,
   "metadata": {},
   "outputs": [],
   "source": [
    "math.sin(60)"
   ]
  },
  {
   "cell_type": "code",
   "execution_count": null,
   "metadata": {},
   "outputs": [],
   "source": [
    "math.sqrt(25)"
   ]
  },
  {
   "cell_type": "markdown",
   "metadata": {},
   "source": [
    "<a id='string'></a>\n",
    "## Strings"
   ]
  },
  {
   "cell_type": "code",
   "execution_count": 22,
   "metadata": {},
   "outputs": [],
   "source": [
    "my_str = 'Hello World'"
   ]
  },
  {
   "cell_type": "code",
   "execution_count": null,
   "metadata": {},
   "outputs": [],
   "source": [
    "print(my_str); len(my_str)"
   ]
  },
  {
   "cell_type": "code",
   "execution_count": null,
   "metadata": {},
   "outputs": [],
   "source": [
    "len(my_str); print(len(my_str))"
   ]
  },
  {
   "cell_type": "code",
   "execution_count": null,
   "metadata": {},
   "outputs": [],
   "source": [
    "#indexing starting at 0\n",
    "print(my_str[0]); print(my_str[1]); print(my_str[10])"
   ]
  },
  {
   "cell_type": "code",
   "execution_count": null,
   "metadata": {},
   "outputs": [],
   "source": [
    "#string slicing\n",
    "print(my_str[1:4]); print(my_str[:]); print(my_str[1:])"
   ]
  },
  {
   "cell_type": "code",
   "execution_count": null,
   "metadata": {},
   "outputs": [],
   "source": [
    "#string split\n",
    "s1, s2 = my_str.split(); print(s1); print(s2)"
   ]
  },
  {
   "cell_type": "code",
   "execution_count": null,
   "metadata": {},
   "outputs": [],
   "source": [
    "#multiple line spanning\n",
    "multilines= \"\"\"This is a multi-line\n",
    "block of sample\n",
    " text\"\"\"\n",
    "print(multilines)"
   ]
  },
  {
   "cell_type": "code",
   "execution_count": null,
   "metadata": {},
   "outputs": [],
   "source": [
    "#string formatting\n",
    "text = \"%d pigs in the barn, I’ll %s and %s\" %(3,'huff','puff')\n",
    "print(text)"
   ]
  },
  {
   "cell_type": "code",
   "execution_count": null,
   "metadata": {},
   "outputs": [],
   "source": [
    "total= \"my share = %.2f, tip = %d\" %(24.5, 5.5)\n",
    "print(total)"
   ]
  },
  {
   "cell_type": "code",
   "execution_count": null,
   "metadata": {},
   "outputs": [],
   "source": [
    "#more string ops\n",
    "my_str=\"Hello World\"\n",
    "my_str.upper(); print(my_str)\n",
    "print(my_str.isalpha())\n",
    "\n",
    "print(my_str.isdigit())"
   ]
  },
  {
   "cell_type": "markdown",
   "metadata": {},
   "source": [
    "<a id='list'></a>\n",
    "## Lists\n",
    "* Collection of data [ ]\n",
    "* Often used to store homogeneous values\n",
    "    * e.g., Numbers, names with the same data type\n",
    "* Members are accessed as strings\n",
    "* Mutable: modify in place without creating a new object\n"
   ]
  },
  {
   "cell_type": "code",
   "execution_count": null,
   "metadata": {},
   "outputs": [],
   "source": [
    "my_list = [1,2,9,4]\n",
    "print(my_list)\n",
    "#how to find out the data type?"
   ]
  },
  {
   "cell_type": "code",
   "execution_count": null,
   "metadata": {},
   "outputs": [],
   "source": [
    "my_list2 = list(range(4))\n",
    "print(my_list2)"
   ]
  },
  {
   "cell_type": "code",
   "execution_count": null,
   "metadata": {},
   "outputs": [],
   "source": [
    "# access list members by index \n",
    "# start at 0, end at n-1\n",
    "print(\"1st element =\", my_list[0])\n",
    "print(\"last element =\", my_list[3])"
   ]
  },
  {
   "cell_type": "code",
   "execution_count": null,
   "metadata": {},
   "outputs": [],
   "source": [
    "#Contatenate lists\n",
    "print(my_list + my_list)\n",
    "print(my_list *2)\n",
    "print(my_list *3)"
   ]
  },
  {
   "cell_type": "code",
   "execution_count": null,
   "metadata": {},
   "outputs": [],
   "source": [
    "# iterate list elements\n",
    "animals = ['dog','cat','horse']\n",
    "for name in animals:\n",
    "    print(name)"
   ]
  },
  {
   "cell_type": "code",
   "execution_count": null,
   "metadata": {},
   "outputs": [],
   "source": [
    "for index, name in enumerate(animals):\n",
    "    print(index, name)"
   ]
  },
  {
   "cell_type": "code",
   "execution_count": null,
   "metadata": {},
   "outputs": [],
   "source": [
    "# modify list\n",
    "del my_list[0]; print(my_list)\n",
    "my_list.append(99); print(my_list)\n",
    "my_list.insert(1, 100); print(my_list)"
   ]
  },
  {
   "cell_type": "code",
   "execution_count": null,
   "metadata": {},
   "outputs": [],
   "source": [
    "#some list funs\n",
    "my_list.sort(); print(my_list)\n",
    "my_list.reverse(); print(my_list)"
   ]
  },
  {
   "cell_type": "code",
   "execution_count": null,
   "metadata": {},
   "outputs": [],
   "source": [
    "#more sorting\n",
    "my_list = ['cats', 'SHEEP','DOGS','horses']\n",
    "print(sorted(my_list, key=len))\n",
    "print(sorted(my_list))\n",
    "print(sorted(my_list, reverse=True))"
   ]
  },
  {
   "cell_type": "code",
   "execution_count": null,
   "metadata": {},
   "outputs": [],
   "source": [
    "sorted(my_list, key=len)"
   ]
  },
  {
   "cell_type": "code",
   "execution_count": null,
   "metadata": {},
   "outputs": [],
   "source": [
    "# sort by lowercase\n",
    "sorted(my_list, key=str.lower)"
   ]
  },
  {
   "cell_type": "code",
   "execution_count": null,
   "metadata": {},
   "outputs": [],
   "source": [
    "#list comprehension [expr for var in list]\n",
    "my_list=[2,5,9,1]\n",
    "square = [x**2 for x in my_list]; print(\"square =\", square)\n",
    "large = [n for n in my_list if n >= 5]; print('large =',large)"
   ]
  },
  {
   "cell_type": "markdown",
   "metadata": {},
   "source": [
    "<a id='tuple'></a>\n",
    "## Tuples\n",
    "* Not immutable\n",
    "* Why Tuple?\n",
    "* Processed faster than lists\n",
    "* Sequence of a Tuple is protected\n",
    "* Sequence unpacking"
   ]
  },
  {
   "cell_type": "code",
   "execution_count": null,
   "metadata": {},
   "outputs": [],
   "source": [
    "my_tup = (2, 8, 3, 1)\n",
    "a,b,c,d = my_tup\n",
    "print(a, b)"
   ]
  },
  {
   "cell_type": "code",
   "execution_count": null,
   "metadata": {},
   "outputs": [],
   "source": [
    "print(my_tup[0])"
   ]
  },
  {
   "cell_type": "markdown",
   "metadata": {},
   "source": [
    "<a id='dic'></a>\n",
    "## Dictionaries\n",
    "* List of key-value pairs { }\n",
    "* Unordered collections of objects, not indexed\n",
    "* Store objects in a random order to provide faster lookup\n",
    "* Data type are heterogeneous, unlike list\n",
    "* Element are accessed by a keyword, not index\n",
    "* Elements are mutable \n",
    "* dict = {\"key1”: value1,  “key2”: value2} "
   ]
  },
  {
   "cell_type": "code",
   "execution_count": null,
   "metadata": {},
   "outputs": [],
   "source": [
    "my_dict = {'cats':1, 'dogs':2, 'sheep':3}\n",
    "print(my_dict)"
   ]
  },
  {
   "cell_type": "code",
   "execution_count": null,
   "metadata": {},
   "outputs": [],
   "source": [
    "print(my_dict['dogs'])"
   ]
  },
  {
   "cell_type": "code",
   "execution_count": null,
   "metadata": {},
   "outputs": [],
   "source": [
    "my_dict['horse'] = 3; print(sorted(my_dict))"
   ]
  },
  {
   "cell_type": "code",
   "execution_count": null,
   "metadata": {},
   "outputs": [],
   "source": [
    "print(my_dict.keys()); print(my_dict.values())"
   ]
  },
  {
   "cell_type": "code",
   "execution_count": null,
   "metadata": {},
   "outputs": [],
   "source": [
    "for key, value in my_dict.items():\n",
    "    print(key, value)"
   ]
  },
  {
   "cell_type": "markdown",
   "metadata": {},
   "source": [
    "<a id='file'></a>\n",
    "## Files\n",
    "* file open, close, read, write\n",
    "* file_handle = open(“file_name”, ‘mode’)\n",
    "    * Modes: \n",
    "    * a: append\n",
    "    * r: read only (error if not existing)\n",
    "    * w: write only\n",
    "    * r+: read/write (error if not existing)\n",
    "    * w+: read/write\n",
    "    * b: binary\n",
    "* Python has a built-in garbage collector\n",
    "* Object memory space is auto reclaimed once a file is no longer in use \n",
    "    "
   ]
  },
  {
   "cell_type": "code",
   "execution_count": null,
   "metadata": {},
   "outputs": [],
   "source": [
    "# read a file\n",
    "input = open(\"data.txt\", 'r')\n",
    "content = input.read()\n",
    "input1.close()\n",
    "print(content)"
   ]
  },
  {
   "cell_type": "code",
   "execution_count": 192,
   "metadata": {},
   "outputs": [],
   "source": [
    "#write to a file\n",
    "output = open('write.txt','w')\n",
    "output.write(\"Writing to a file\")\n",
    "output.close()"
   ]
  },
  {
   "cell_type": "markdown",
   "metadata": {},
   "source": [
    "<a id='control'></a>\n",
    "## Control Structures \n",
    "<font color=blue>\n",
    "* if-else\n",
    "* for loops, while loops\n",
    "* break: jump out of the current loop\n",
    "* continue: jump to the top of next cycle within the loop\n",
    "* pass: do nothing \n",
    "</font> \n",
    "[top](#top)"
   ]
  },
  {
   "cell_type": "code",
   "execution_count": null,
   "metadata": {},
   "outputs": [],
   "source": [
    "x = input(\"Please enter a number\")\n",
    "if ( x >= '5' ):\n",
    "    print(x,\"> 5\")\n",
    "else:\n",
    "    print(x, \"< 5\")\n",
    "    "
   ]
  },
  {
   "cell_type": "code",
   "execution_count": null,
   "metadata": {},
   "outputs": [],
   "source": [
    "\n",
    "for index in range(3):\n",
    "    print(index)"
   ]
  },
  {
   "cell_type": "code",
   "execution_count": null,
   "metadata": {},
   "outputs": [],
   "source": [
    "index=0\n",
    "while (index < 3):\n",
    "    print(index)\n",
    "    index = index + 1"
   ]
  },
  {
   "cell_type": "markdown",
   "metadata": {},
   "source": [
    "<div class='alert alert-block alert-danger'>  Tip: <div>\n",
    "Indentation: signify code blocks  <div>"
   ]
  },
  {
   "cell_type": "code",
   "execution_count": null,
   "metadata": {},
   "outputs": [],
   "source": [
    "#prime numbers\n",
    "n = 2\n",
    "while n < 10:\n",
    "    prime = True\n",
    "    for x in range(2,n):\n",
    "        if n % x == 0:\n",
    "            prime = False\n",
    "            break\n",
    "        if prime:\n",
    "            print(n, 'is a prime #')\n",
    "            pass\n",
    "        else:\n",
    "            n= n + 1\n",
    "            continu\n",
    "    n = n + 1"
   ]
  },
  {
   "cell_type": "markdown",
   "metadata": {},
   "source": [
    "<a id='module'> </a>\n",
    "## Functions\n",
    "def func_name(par1, par2,...): \n",
    "> body of code\n",
    " \n",
    " [top](#top)    \n",
    "    "
   ]
  },
  {
   "cell_type": "code",
   "execution_count": null,
   "metadata": {},
   "outputs": [],
   "source": [
    "#addition\n",
    "def my_add(x, y):\n",
    "    return x+y\n",
    "\n",
    "my_add(3, 8)"
   ]
  },
  {
   "cell_type": "code",
   "execution_count": null,
   "metadata": {},
   "outputs": [],
   "source": [
    "#return multiple values\n",
    "def power(input):\n",
    "    return input**2, input**3\n",
    "\n",
    "square, cube = power(3)\n",
    "print(\"squre =\",square, \"cube =\",cube)"
   ]
  },
  {
   "cell_type": "markdown",
   "metadata": {},
   "source": [
    "<a id='module'> </a>\n",
    "## Python Module\n",
    "* A python script with python functions and statements\n",
    "* Import a module before having access to all the functions within\n",
    "* Most Python distributions come with plenty of build-in modules \n",
    "***\n",
    " [top](#top)"
   ]
  },
  {
   "cell_type": "markdown",
   "metadata": {},
   "source": [
    "\n",
    "## Python Modules\n",
    "* math, sys, os..\n",
    "* NumPy, high performance in vector & matrix using vector computation \n",
    "* SciPy: based on Numpy, including many scientific algorithms.\n",
    "* padas\n",
    "* matplotlib, pyplot, pylab\n",
    "\n",
    "Reference to [Python3.x standard libraries](https://docs.python.org/3/library/) \n"
   ]
  },
  {
   "cell_type": "code",
   "execution_count": null,
   "metadata": {},
   "outputs": [],
   "source": [
    "#import a module\n",
    "import math\n",
    "math.sin(math.pi)"
   ]
  },
  {
   "cell_type": "code",
   "execution_count": null,
   "metadata": {},
   "outputs": [],
   "source": [
    "#get information of a module\n",
    "dir(math)"
   ]
  },
  {
   "cell_type": "code",
   "execution_count": null,
   "metadata": {},
   "outputs": [],
   "source": [
    "#get information\n",
    "help(math)"
   ]
  },
  {
   "cell_type": "code",
   "execution_count": null,
   "metadata": {
    "raw_mimetype": "text/x-python"
   },
   "outputs": [],
   "source": [
    "# get information of a module function \n",
    "help(math.sin)"
   ]
  },
  {
   "cell_type": "markdown",
   "metadata": {},
   "source": [
    " * Examples using os, commands modules\n",
    " * os: includes many functions interacting with the file system \n"
   ]
  },
  {
   "cell_type": "code",
   "execution_count": null,
   "metadata": {},
   "outputs": [],
   "source": [
    "import os\n",
    "def display_dir(dir):\n",
    "      files = os.listdir(dir)\n",
    "      for fname in files:\n",
    "        print(fname)\n",
    "        print(os.path.abspath(os.path.join(dir, fname))) \n",
    "\n",
    "display_dir('/tmp')"
   ]
  },
  {
   "cell_type": "markdown",
   "metadata": {},
   "source": [
    "<a id='numpy'> </a>\n",
    "## Numpy\n",
    "* [Create arrays](#array)\n",
    "* [Properties](#prop)\n",
    "* [File I/O](#file)\n",
    "* [Operations](#op)\n",
    "\n",
    " [top](#top)\n",
    " [next](#plot)"
   ]
  },
  {
   "cell_type": "markdown",
   "metadata": {},
   "source": [
    "* Provide basic functions for large arrays and matrices\n",
    "* A Python library that provides a multidimensional array object\n",
    "* Fast operations on arrays\n",
    "  * mathematical, logical, shape manipulation \n",
    "  * sorting, selecting, I/O\n",
    "  * discrete Fourier transforms, basic linear algebra\n",
    "  * basic statistical operations\n",
    "  * random simulation and much more."
   ]
  },
  {
   "cell_type": "code",
   "execution_count": null,
   "metadata": {},
   "outputs": [],
   "source": [
    "import numpy as np\n",
    "a = np.array([4,5,6,7])\n",
    "b = np.array(range(-1, 3, 1))\n",
    "print(\"a\",a)\n",
    "print(\"b\",b)\n",
    "print(\"a+b\", a+b)\n",
    "print('a*b', a*b)\n",
    "for i in range(4):\n",
    "    print(i)\n",
    "    "
   ]
  },
  {
   "cell_type": "markdown",
   "metadata": {},
   "source": [
    "<a id='array'></a>\n",
    "### Create Arrays"
   ]
  },
  {
   "cell_type": "code",
   "execution_count": null,
   "metadata": {},
   "outputs": [],
   "source": [
    "# create array from a list\n",
    "a = np.array([2,3,4]); print('a', a)\n",
    "\n",
    "# arange [start, stop, interval, datatype]\n",
    "b=np.arange(4, 10.0, 2, np.int64); print(\"arange\",b)\n",
    "\n",
    "# linspace including both ends {start, stop, num=50, endpoint=True}\n",
    "c=np.linspace(1,5, 10); print('linspace',c)\n",
    "\n",
    "# create array on log scale {start, stop, num=50, endpoint=True, base=10}\n",
    "d=np.logspace(1,100, 5, base=2); print('logspace',d)\n",
    "\n",
    "# create a square array with ones on the main diagonal\n",
    "y=np.identity(4); print(y)\n",
    "\n",
    "\n",
    "# Initialize w/ 0s or 1s\n",
    "c = np.zeros((2,3)); print(\"c\",c)\n",
    "d = np.ones((2, 5)); print(\"d\", d); \n",
    "a.fill(0); print(a)\n",
    "a[:] = 1; print(a)\n",
    "\n"
   ]
  },
  {
   "cell_type": "code",
   "execution_count": null,
   "metadata": {},
   "outputs": [],
   "source": [
    "np.mgrid[0:5, 0:7]\n",
    "print(a); print(b)"
   ]
  },
  {
   "cell_type": "markdown",
   "metadata": {},
   "source": [
    "<a id='prop'></a>\n",
    "### Numpy array properties"
   ]
  },
  {
   "cell_type": "code",
   "execution_count": null,
   "metadata": {},
   "outputs": [],
   "source": [
    "# numpy array properties\n",
    "print(a.dtype); print(a)\n",
    "print(a.shape)  # dimensions\n",
    "print(a.size)   # number of elements\n",
    "print(a.ndim)   # number of dimensions\n"
   ]
  },
  {
   "cell_type": "markdown",
   "metadata": {},
   "source": [
    "<a id='file'></a>\n",
    "### Numpy File I/O"
   ]
  },
  {
   "cell_type": "code",
   "execution_count": 40,
   "metadata": {},
   "outputs": [
    {
     "name": "stdout",
     "output_type": "stream",
     "text": [
      "1800  1  1    -6.1    -6.1    -6.1 1\r\n",
      "1800  1  2   -15.4   -15.4   -15.4 1\r\n",
      "1800  1  3   -15.0   -15.0   -15.0 1\r\n",
      "1800  1  4   -19.3   -19.3   -19.3 1\r\n",
      "1800  1  5   -16.8   -16.8   -16.8 1\r\n",
      "1800  1  6   -11.4   -11.4   -11.4 1\r\n",
      "1800  1  7    -7.6    -7.6    -7.6 1\r\n",
      "1800  1  8    -7.1    -7.1    -7.1 1\r\n",
      "1800  1  9   -10.1   -10.1   -10.1 1\r\n",
      "1800  1 10    -9.5    -9.5    -9.5 1\r\n"
     ]
    }
   ],
   "source": [
    "# comma-separated values (CSV), or related format such as TSV (tab-separated values)\n",
    "# read data into Numpy arrays using genfromtxt\n",
    "import numpy as np\n",
    "!head stock.dat\n",
    "data=np.genfromtxt('stock.dat', delimiter=','); \n",
    "#np.load('stock.dat')\n"
   ]
  },
  {
   "cell_type": "code",
   "execution_count": 41,
   "metadata": {},
   "outputs": [
    {
     "name": "stdout",
     "output_type": "stream",
     "text": [
      "[[0.91293621 0.44913208 0.84843745 0.46405243]\n",
      " [0.96302897 0.38896432 0.34535125 0.74813727]\n",
      " [0.31431767 0.53845025 0.00129205 0.97297451]\n",
      " [0.38731484 0.69111267 0.42069492 0.63743375]]\n",
      "0.91294 0.44913 0.84844 0.46405\r\n",
      "0.96303 0.38896 0.34535 0.74814\r\n",
      "0.31432 0.53845 0.00129 0.97297\r\n",
      "0.38731 0.69111 0.42069 0.63743\r\n"
     ]
    }
   ],
   "source": [
    "#store and save arrays into a file\n",
    "m = np.random.rand(4,4); print(m)\n",
    "np.savetxt('random_m.csv', m, fmt='%.5f')\n",
    "!cat random_m.csv"
   ]
  },
  {
   "cell_type": "code",
   "execution_count": 53,
   "metadata": {},
   "outputs": [
    {
     "name": "stdout",
     "output_type": "stream",
     "text": [
      "[(1,   3.385,  44.5 , 'abjhk') (2,   0.48 ,  33.38, 'bc_00asdk')\n",
      " (3,   1.35 ,   8.1 , 'fb') (4, 465.   , 423.  , 'cer')\n",
      " (5,  36.33 , 119.5 , 'rg') (6,  27.66 , 115.  , 'rk')\n",
      " (7,  14.83 ,  98.2 , 'fff') (8,   1.04 ,   5.5 , 'zxs')\n",
      " (9,   4.19 ,  58.  , 'kij')]\n"
     ]
    }
   ],
   "source": [
    "#!cat intpython/data.txt\n",
    "data2=np.genfromtxt('data.txt', skip_header=16, dtype=None, encoding=None)\n",
    "print(data2)\n",
    "#help(np.genfromtxt)"
   ]
  },
  {
   "cell_type": "code",
   "execution_count": 21,
   "metadata": {},
   "outputs": [],
   "source": [
    "data2=np.loadtxt('data.txt', skiprows=16, usecols={0,1,2}, comments='#', dtype=None)\n"
   ]
  },
  {
   "cell_type": "markdown",
   "metadata": {},
   "source": [
    "<a id='op'></a>\n",
    "### Numpy Operations"
   ]
  },
  {
   "cell_type": "code",
   "execution_count": null,
   "metadata": {},
   "outputs": [],
   "source": [
    "#reshape array structures\n",
    "a=np.arange(32); print(a); print(a.ndim); print(a.shape)\n",
    "b=a.reshape(4,-1)\n",
    "print(b); print(b.ndim); print(b.shape)\n",
    "b.flatten()"
   ]
  },
  {
   "cell_type": "code",
   "execution_count": null,
   "metadata": {},
   "outputs": [],
   "source": [
    "# Indexing from 0:N-1\n",
    "print(b.size); print(b); print(b.ndim)\n",
    "print(b[:,0])  # all the rows from 1st colume\n",
    "print(b[0,:])  # all the columes from 1st row\n",
    "print(b[0,0])"
   ]
  },
  {
   "cell_type": "code",
   "execution_count": null,
   "metadata": {},
   "outputs": [],
   "source": [
    "# Slicing:to extract part of an array [lower:upper:step]\n",
    "A = np.array([1,2,3,4,5])\n",
    "print(A[::])\n",
    "print(A[::2])\n",
    "print(A[3:])  #element from index 3\n",
    "print(A[:3])  #first 3 elements"
   ]
  },
  {
   "cell_type": "code",
   "execution_count": null,
   "metadata": {},
   "outputs": [],
   "source": [
    "# Fancy nndexing: when an array/list is used in place of an index\n",
    "A=np.array([[n+m*10 for n in range(6)] for m in range(7)]); print(A)\n",
    "row_index=[1,2,3]\n",
    "A[row_index]\n"
   ]
  },
  {
   "cell_type": "code",
   "execution_count": 81,
   "metadata": {},
   "outputs": [
    {
     "data": {
      "text/plain": [
       "array([11, 22, 35])"
      ]
     },
     "execution_count": 81,
     "metadata": {},
     "output_type": "execute_result"
    }
   ],
   "source": [
    "col_index=[1,2,-1]\n",
    "A[row_index,col_index]"
   ]
  },
  {
   "cell_type": "code",
   "execution_count": null,
   "metadata": {},
   "outputs": [],
   "source": [
    "# Index mask\n",
    "B=np.array(range(4)); print(B)\n",
    "row_mask=np.array([True, True, False, False])\n",
    "B[row_mask]\n",
    "#row_mask2=np.array([1,1,0,0], dtype=bool)\n",
    "#B[row_mask2]"
   ]
  },
  {
   "cell_type": "markdown",
   "metadata": {},
   "source": [
    "#### Element-wise array operations"
   ]
  },
  {
   "cell_type": "code",
   "execution_count": null,
   "metadata": {},
   "outputs": [],
   "source": [
    "!head stock.dat\n",
    "\n",
    "import numpy as np\n",
    "data2=np.genfromtxt('stock.dat')\n",
    "#np.shape(data); print(data);print(data[:,3])\n",
    "#np.mean(data[:,3]) #temprature data\n"
   ]
  },
  {
   "cell_type": "code",
   "execution_count": 100,
   "metadata": {},
   "outputs": [
    {
     "data": {
      "text/plain": [
       "(4.301174258269478, 18.5001)"
      ]
     },
     "execution_count": 100,
     "metadata": {},
     "output_type": "execute_result"
    }
   ],
   "source": [
    "#standard deviation and variance\n",
    "np.std(data[:,3]), np.var(data[:,3])  "
   ]
  },
  {
   "cell_type": "code",
   "execution_count": null,
   "metadata": {},
   "outputs": [],
   "source": [
    "#min, max\n",
    "data[:,3].min()\n"
   ]
  },
  {
   "cell_type": "markdown",
   "metadata": {},
   "source": [
    "#### Data processing\n"
   ]
  },
  {
   "cell_type": "markdown",
   "metadata": {},
   "source": [
    "<a id='plot'> </a>\n",
    "## Python Plotting\n",
    " [top](#top)"
   ]
  },
  {
   "cell_type": "markdown",
   "metadata": {},
   "source": [
    "* matplotlib: library for plotting 2D graphics\n",
    "* pyplot: a wrapper module to provide Matlab-style interface to matplotlib\n",
    "* pylab: numpy plus pyplot\n"
   ]
  },
  {
   "cell_type": "code",
   "execution_count": 13,
   "metadata": {},
   "outputs": [],
   "source": [
    "import matplotlib.pyplot as plt\n",
    "import numpy as np"
   ]
  },
  {
   "cell_type": "code",
   "execution_count": null,
   "metadata": {},
   "outputs": [],
   "source": [
    "# Line plot\n",
    "data=np.linspace(-np.pi, np.pi, 50); \n",
    "sin, cos =np.sin(data), np.cos(data)\n",
    "plt.plot(data, sin, 'b-*', data, cos,'r-s')\n",
    "plt.title(\"plot example\")\n",
    "plt.xlabel('x')\n",
    "plt.ylabel('sin/con')\n",
    "#figure legend\n",
    "plt.legend(['sin','cos'])\n",
    "plt.show()\n"
   ]
  },
  {
   "cell_type": "code",
   "execution_count": null,
   "metadata": {},
   "outputs": [],
   "source": [
    "#plotting separate figures\n",
    "plt.figure()\n",
    "plt.plot(sin, 'r*', label='sin')\n",
    "plt.legend()\n",
    "#2nd figure\n",
    "plt.figure()\n",
    "plt.plot(cos, 'b+', label='cos')\n",
    "plt.legend()\n",
    "plt.clf()\n",
    "plt.show()\n",
    "plt.close('all')\n"
   ]
  },
  {
   "cell_type": "code",
   "execution_count": null,
   "metadata": {},
   "outputs": [],
   "source": [
    "# subplot on the same figure\n",
    "# subplot(rows, columns, active_plot)\n",
    "plt.subplot(2,1,1)\n",
    "plt.plot(sin, 'r-+')\n",
    "#2nd subplot\n",
    "plt.subplot(2,1,2)\n",
    "plt.plot(cos, 'b-o')\n",
    "#plt.close()\n",
    "plt.show()"
   ]
  },
  {
   "cell_type": "code",
   "execution_count": null,
   "metadata": {},
   "outputs": [],
   "source": [
    "# Plot a bar chart\n",
    "x=['Jan', 'Feb', 'Mar', 'Apr']\n",
    "y=[ 34, 17, 13, 69]\n",
    "plt.bar(x, y, color='red')\n",
    "plt.title(\"Sale by Month\")\n",
    "plt.xlabel('Month')\n",
    "plt.ylabel('Sale')\n",
    "plt.show()"
   ]
  },
  {
   "cell_type": "code",
   "execution_count": 65,
   "metadata": {},
   "outputs": [
    {
     "data": {
      "image/png": "[encoded data removed]",
      "text/plain": [
       "<matplotlib.figure.Figure at 0x2b7b2b8d95c0>"
      ]
     },
     "metadata": {},
     "output_type": "display_data"
    }
   ],
   "source": [
    "# Plot histograph\n",
    "import matplotlib\n",
    "import numpy as np\n",
    "import matplotlib.pyplot as plt\n",
    "\n",
    "np.random.seed(19680801)\n",
    "\n",
    "# example data\n",
    "mu = 100  # mean of distribution\n",
    "sigma = 15  # standard deviation of distribution\n",
    "x = mu + sigma * np.random.randn(437)\n",
    "#print(x)\n",
    "num_bins = 50\n",
    "\n",
    "fig, ax = plt.subplots()\n",
    "\n",
    "# the histogram of the data\n",
    "#help(ax.hist)\n",
    "ax.hist(x, num_bins, density=1)\n",
    "\n",
    "# add a 'best fit' line\n",
    "y = ((1 / (np.sqrt(2 * np.pi) * sigma)) *\n",
    "     np.exp(-0.5 * (1 / sigma * (bins - mu))**2))\n",
    "ax.plot(bins, y, '--')\n",
    "ax.set_xlabel('Smarts')\n",
    "ax.set_ylabel('Probability density')\n",
    "ax.set_title(r'Histogram of IQ: $\\mu=100$, $\\sigma=15$')\n",
    "\n",
    "# Tweak spacing to prevent clipping of ylabel\n",
    "#.tight_layout()\n",
    "plt.show()"
   ]
  },
  {
   "cell_type": "code",
   "execution_count": 71,
   "metadata": {},
   "outputs": [
    {
     "data": {
      "text/plain": [
       "(-0.5, 639.5, 479.5, -0.5)"
      ]
     },
     "execution_count": 71,
     "metadata": {},
     "output_type": "execute_result"
    },
    {
     "data": {
      "image/png": "[encoded data removed]",
      "text/plain": [
       "<matplotlib.figure.Figure at 0x2b7b2bd79978>"
      ]
     },
     "metadata": {},
     "output_type": "display_data"
    }
   ],
   "source": [
    "# View an image\n",
    "#with open('scan.png','r') as image_file:\n",
    "image = plt.imread('scan.png')\n",
    "\n",
    "fig, ax = plt.subplots()\n",
    "ax.imshow(image)\n",
    "ax.axis('off')  # clear x- and y-axes\n"
   ]
  },
  {
   "cell_type": "code",
   "execution_count": null,
   "metadata": {},
   "outputs": [],
   "source": []
  }
 ],
 "metadata": {
  "celltoolbar": "Raw Cell Format",
  "kernelspec": {
   "display_name": "Python 3",
   "language": "python",
   "name": "python3"
  },
  "language_info": {
   "codemirror_mode": {
    "name": "ipython",
    "version": 3
   },
   "file_extension": ".py",
   "mimetype": "text/x-python",
   "name": "python",
   "nbconvert_exporter": "python",
   "pygments_lexer": "ipython3",
   "version": "3.6.4"
  }
 },
 "nbformat": 4,
 "nbformat_minor": 2
}
