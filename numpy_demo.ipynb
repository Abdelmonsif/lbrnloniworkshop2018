{
 "cells": [
  {
   "cell_type": "code",
   "execution_count": null,
   "metadata": {},
   "outputs": [],
   "source": [
    "# to bring the print function from Python 3 into Python 2.6+\n",
    "from __future__ import print_function"
   ]
  },
  {
   "cell_type": "markdown",
   "metadata": {},
   "source": [
    "Demostration of Python Loop"
   ]
  },
  {
   "cell_type": "code",
   "execution_count": null,
   "metadata": {},
   "outputs": [],
   "source": [
    "a = list(range(5))\n",
    "print(a)\n",
    "for idx in range(len(a)):\n",
    "    a[idx] += 5\n",
    "print(a)"
   ]
  },
  {
   "cell_type": "markdown",
   "metadata": {},
   "source": [
    "Python Tuples"
   ]
  },
  {
   "cell_type": "code",
   "execution_count": null,
   "metadata": {},
   "outputs": [],
   "source": [
    "tup1 = ('physics', 'chemistry', 1997, 2000);\n",
    "tup2 = (1, 2, 3, 4, 5 );\n",
    "tup3 = \"a\", \"b\", \"c\", \"d\";\n",
    "# The empty tuple is written as two parentheses containing nothing\n",
    "tup1 = ();\n",
    "# To write a tuple containing a single value you have to include a comma,\n",
    "tup1 = (50,);\n",
    "# Accessing Values in Tuples\n",
    "print(\"tup1[0]: \", tup1[0])\n",
    "print(\"tup2[1:5]: \", tup2[1:5])\n",
    "# Updating Tuples, create a new tuple as follows\n",
    "tup3 = tup1 + tup2;\n",
    "print(tup3)\n",
    "# delete tuple elements\n",
    "print(\"Deleting tup3 : \")\n",
    "del tup3;\n",
    "\n",
    "#print(tup3) # this will reture an error"
   ]
  },
  {
   "cell_type": "markdown",
   "metadata": {},
   "source": [
    "# Numpy Overview\n",
    "- NumPy (Numeric Python) is the fundamental package for scientific computing in Python.\n",
    "- It is a Python library that provides a multidimensional array object, various derived objects (such as masked arrays and matrices)\n",
    "- An assortment of routines for fast operations on arrays, including mathematical, logical, shape manipulation, sorting, selecting, I/O, discrete Fourier transforms, basic linear algebra, basic statistical operations, random simulation and much more.\n",
    "- In short , NumPy package provides basic routines for manipulating large arrays and matrices of numeric data. "
   ]
  },
  {
   "cell_type": "markdown",
   "metadata": {},
   "source": [
    "# Simple array math using np.array.\n",
    "* Note that NumPy array starts its index from 0, end at N-1 (C-style)"
   ]
  },
  {
   "cell_type": "code",
   "execution_count": null,
   "metadata": {},
   "outputs": [],
   "source": [
    "import numpy as np\n",
    "a = np.array([1,2,3])\n",
    "b = np.array([4,5,6])\n",
    "print(a+b)\n",
    "print(a*b)\n",
    "print(a ** b)"
   ]
  },
  {
   "cell_type": "markdown",
   "metadata": {},
   "source": [
    "* Setting Array Element Values"
   ]
  },
  {
   "cell_type": "code",
   "execution_count": null,
   "metadata": {},
   "outputs": [],
   "source": [
    "a[0]\n",
    "a[0]=11\n",
    "print(a)\n",
    "a.fill(0) # set all values in the array with 0\n",
    "a[:]=1 # why we need to use [:]?\n",
    "print(a)\n",
    "print(a.dtype) # note that a is still int64 type !\n",
    "a[0]=10.6 # decimal parts are truncated, be careful!\n",
    "print(a)\n",
    "a.fill(-3.7) # fill() will have the same behavior\n",
    "print(a)"
   ]
  },
  {
   "cell_type": "markdown",
   "metadata": {},
   "source": [
    "* #### Numpy Array Properties"
   ]
  },
  {
   "cell_type": "code",
   "execution_count": null,
   "metadata": {},
   "outputs": [],
   "source": [
    "a = np.array([0,1,2,3]) # create a from a list\n",
    "# create evenly spaced values within [start, stop)\n",
    "a = np.arange(1,5)\n",
    "print(a)\n",
    "print(type(a))\n",
    "print(a.dtype)\n",
    "# Length of one array element in bytes\n",
    "print(a.itemsize)\n",
    "# shape returns a tuple listing the length of the array\n",
    "# along each dimension.\n",
    "print(a.shape) # or np.shape(a)\n",
    "print(a.size) # or np.size(a), return the total number of elements\n",
    "# return the number of bytes used by the data portion of the array\n",
    "print(a.nbytes)\n",
    "# return the number of dimensions of the array\n",
    "print(a.ndim)"
   ]
  },
  {
   "cell_type": "markdown",
   "metadata": {},
   "source": [
    "* #### Numpy Array Creation Functions"
   ]
  },
  {
   "cell_type": "code",
   "execution_count": null,
   "metadata": {},
   "outputs": [],
   "source": [
    "a = np.arange(4)\n",
    "print(a)\n",
    "a = np.arange(0, 2*np.pi, np.pi/4)\n",
    "print(a)\n",
    "a = np.arange(1.5,2.1,0.3)\n",
    "print(a)\n",
    "a = np.ones((2,3))\n",
    "print(a)\n",
    "print(a.dtype)\n",
    "a = np.zeros(3)\n",
    "print(a)\n",
    "print(a.dtype)"
   ]
  },
  {
   "cell_type": "code",
   "execution_count": null,
   "metadata": {},
   "outputs": [],
   "source": [
    "a = np.identity(4)\n",
    "print(a)\n",
    "a = np.eye(4)\n",
    "print(a)\n",
    "print(a.dtype)\n",
    "a = np.eye(4,dtype=int)\n",
    "print(a)\n",
    "print(a.dtype)\n",
    "a = np.empty(2)\n",
    "print(a)\n",
    "a.fill(5.0)\n",
    "print(a)\n",
    "a[:] = 4.0\n",
    "print(a)"
   ]
  },
  {
   "cell_type": "code",
   "execution_count": null,
   "metadata": {},
   "outputs": [],
   "source": [
    "a = np.linspace(0,1,5)\n",
    "print(a)\n",
    "a = np.logspace(0,1,5)\n",
    "print(a)"
   ]
  },
  {
   "cell_type": "markdown",
   "metadata": {},
   "source": [
    "* #### Array from/to ASCII files\n",
    "use loadtxt\n",
    "\n",
    "`data.txt`<br>\n",
    "  `Index`<br>\n",
    "`Brain Weight`<br>\n",
    "`Body Weight`<br>\n",
    "`#here is the training set`<br>\n",
    "`1 3.385 44.500 abjhk`<br>\n",
    "`2 0.480 33.38 bc_00asdk`<br>\n",
    "`...`<br>\n",
    "`#here is the cross validation set`<br>\n",
    "`6 27.660 115.000 rk`<br>\n",
    "`7 14.830 98.200 fff`<br>\n",
    "`...`<br>\n",
    "`9 4.190 58.000 kij`<br>"
   ]
  },
  {
   "cell_type": "code",
   "execution_count": null,
   "metadata": {},
   "outputs": [],
   "source": [
    "a = np.loadtxt('data.txt',skiprows=16,usecols={0,1,2},dtype=None,comments=\"#\")\n",
    "print(a)"
   ]
  },
  {
   "cell_type": "markdown",
   "metadata": {},
   "source": [
    "Using genfromtxt"
   ]
  },
  {
   "cell_type": "code",
   "execution_count": null,
   "metadata": {},
   "outputs": [],
   "source": [
    "# np.genfromtxt can guess the actual type of your columns by using dtype=None\n",
    "a = np.genfromtxt('data.txt',skip_header=16,dtype=None)\n",
    "print(a)"
   ]
  },
  {
   "cell_type": "markdown",
   "metadata": {},
   "source": [
    "* #### Reshaping Arrays"
   ]
  },
  {
   "cell_type": "code",
   "execution_count": null,
   "metadata": {},
   "outputs": [],
   "source": [
    "a = np.arange(6)\n",
    "print(a)\n",
    "print(a.shape)\n",
    "a.shape = (2,3) # reshape array to 2x3\n",
    "print(a)\n",
    "a = a.reshape(3,2) # reshape array to 3x2\n",
    "print(a)\n",
    "# a.reshape(2,5) # cannot change the number of elements in the array\n",
    "# Traceback (most recent call last):\n",
    "# File \"<stdin>\", line 1, in <module>\n",
    "# ValueError: total size of new array must be unchanged\n",
    "a = a.reshape(2,-1) # numpy determines the last dimension\n",
    "print(a)"
   ]
  },
  {
   "cell_type": "markdown",
   "metadata": {},
   "source": [
    "* #### Flattening Multi-dimensional Arrays"
   ]
  },
  {
   "cell_type": "code",
   "execution_count": null,
   "metadata": {},
   "outputs": [],
   "source": [
    "# Note the difference between\n",
    "# a.flatten() and a.flat\n",
    "print(a)\n",
    "# a.flatten() converts a multidimensional array into\n",
    "# a 1-D array. The new array is a copy of the original data.\n",
    "b = a.flatten()\n",
    "print(b)\n",
    "b[0] = 7\n",
    "print(b)\n",
    "print(a)\n",
    "# a.flat is an attribute that returns an iterator object that accesses the data in the multi-\n",
    "# dimensional array data as a 1-D array. It references the original memory.\n",
    "print(a.flat)\n",
    "print(a.flat[:])\n",
    "b = a.flat\n",
    "b[0] = 7\n",
    "print(a)"
   ]
  },
  {
   "cell_type": "markdown",
   "metadata": {},
   "source": [
    "* #### (Un)raveling Multi-dimensional Arrays"
   ]
  },
  {
   "cell_type": "code",
   "execution_count": null,
   "metadata": {},
   "outputs": [],
   "source": [
    "print(a)\n",
    "# ravel() is the same as flatten but returns a reference of the array if possible\n",
    "b = a.ravel()\n",
    "print(b)\n",
    "b[0] = 13\n",
    "print(b)\n",
    "print(a)\n",
    "at = a.transpose()\n",
    "print(at)\n",
    "b = at.ravel()\n",
    "print(b)\n",
    "b[0]=19\n",
    "print(b)\n",
    "print(a)"
   ]
  },
  {
   "cell_type": "markdown",
   "metadata": {},
   "source": [
    "# Basic Usage of Matplotlib\n",
    "\n",
    "- Matplotlib is probably the single most used Python package for 2Dgraphics. (http://matplotlib.org/)\n",
    "- It provides both a very quick way to visualize data from Python and publication-quality figures in many formats.\n",
    "- Provides Matlab/Mathematica-like functionality.\n",
    "<img src=\"logo_matplotlib.png\">"
   ]
  },
  {
   "cell_type": "code",
   "execution_count": null,
   "metadata": {},
   "outputs": [],
   "source": [
    "# Plot the sine and cosine arrays using the default settings\n",
    "import numpy as np\n",
    "import matplotlib.pyplot as plt\n",
    "X = np.linspace(-np.pi, np.pi, 50,endpoint=True)\n",
    "C,S = np.cos(X), np.sin(X)\n",
    "# plt.plot(X,C)\n",
    "# plt.plot(X,S)\n",
    "plt.plot(X,C,X,S)\n",
    "plt.show()"
   ]
  },
  {
   "cell_type": "code",
   "execution_count": null,
   "metadata": {},
   "outputs": [],
   "source": [
    "# plot multiple groups with different line styles\n",
    "plt.plot(X,C,'bo',X,S,'r-^',X,np.sin(2*X),'g-s')\n",
    "plt.show()"
   ]
  },
  {
   "cell_type": "code",
   "execution_count": null,
   "metadata": {},
   "outputs": [],
   "source": [
    "plt.scatter(X,S)\n",
    "plt.show()"
   ]
  },
  {
   "cell_type": "code",
   "execution_count": null,
   "metadata": {},
   "outputs": [],
   "source": [
    "x = np.random.rand(200)\n",
    "y = np.random.rand(200)\n",
    "size = np.random.rand(200)*30\n",
    "color = np.random.rand(200)\n",
    "plt.scatter(x, y, size, color)\n",
    "plt.colorbar()\n",
    "plt.show()"
   ]
  },
  {
   "cell_type": "code",
   "execution_count": null,
   "metadata": {},
   "outputs": [],
   "source": [
    "# Multiple Figures\n",
    "X = np.linspace(-np.pi, np.pi, 50,endpoint=True)\n",
    "C,S = np.cos(X), np.sin(X)\n",
    "# create a figure\n",
    "plt.figure()\n",
    "plt.plot(S)\n",
    "# create a new figure\n",
    "plt.figure()\n",
    "plt.plot(C)\n",
    "plt.show()"
   ]
  },
  {
   "cell_type": "code",
   "execution_count": null,
   "metadata": {},
   "outputs": [],
   "source": [
    "# Multiple Plots Using subplot\n",
    "# divide the plotting area in 2 rows and 1 column(s)\n",
    "# subplot(rows, columns, active_plot)\n",
    "plt.subplot(2, 1, 1)\n",
    "plt.plot(S, 'r-^')\n",
    "# create a new figure\n",
    "plt.subplot(2, 1, 2)\n",
    "plt.plot(C, 'b-o')\n",
    "plt.show()"
   ]
  },
  {
   "cell_type": "code",
   "execution_count": null,
   "metadata": {},
   "outputs": [],
   "source": [
    "#Adding Legend to Plot\n",
    "# Legend labels with plot\n",
    "# Add labels in plot command\n",
    "plt.plot(S, 'r-^', label='sin')\n",
    "plt.plot(C, 'b-o', label='cos')\n",
    "plt.legend(numpoints=1)\n",
    "plt.show()"
   ]
  },
  {
   "cell_type": "code",
   "execution_count": null,
   "metadata": {},
   "outputs": [],
   "source": []
  }
 ],
 "metadata": {
  "kernelspec": {
   "display_name": "Python 2",
   "language": "python",
   "name": "python2"
  },
  "language_info": {
   "codemirror_mode": {
    "name": "ipython",
    "version": 2
   },
   "file_extension": ".py",
   "mimetype": "text/x-python",
   "name": "python",
   "nbconvert_exporter": "python",
   "pygments_lexer": "ipython2",
   "version": "2.7.14"
  }
 },
 "nbformat": 4,
 "nbformat_minor": 2
}
