{
 "cells": [
  {
   "cell_type": "code",
   "execution_count": null,
   "metadata": {},
   "outputs": [],
   "source": [
    "# to bring the print function from Python 3 into Python 2.6+\n",
    "from __future__ import print_function"
   ]
  },
  {
   "cell_type": "markdown",
   "metadata": {},
   "source": [
    "### Demostration of Python Loop"
   ]
  },
  {
   "cell_type": "code",
   "execution_count": null,
   "metadata": {},
   "outputs": [],
   "source": [
    "a = list(range(5))\n",
    "print(a)\n",
    "for idx in range(len(a)):\n",
    "    a[idx] += 5\n",
    "print(a)"
   ]
  },
  {
   "cell_type": "markdown",
   "metadata": {},
   "source": [
    "### Python Tuples"
   ]
  },
  {
   "cell_type": "code",
   "execution_count": null,
   "metadata": {},
   "outputs": [],
   "source": [
    "tup1 = ('physics', 'chemistry', 1997, 2000);\n",
    "tup2 = (1, 2, 3, 4, 5 );\n",
    "tup3 = \"a\", \"b\", \"c\", \"d\";\n",
    "# The empty tuple is written as two parentheses containing nothing\n",
    "tup1 = ();\n",
    "# To write a tuple containing a single value you have to include a comma,\n",
    "tup1 = (50,);\n",
    "# Accessing Values in Tuples\n",
    "print(\"tup1[0]: \", tup1[0])\n",
    "print(\"tup2[1:5]: \", tup2[1:5])\n",
    "# Updating Tuples, create a new tuple as follows\n",
    "tup3 = tup1 + tup2;\n",
    "print(tup3)\n",
    "# delete tuple elements\n",
    "print(\"Deleting tup3 : \")\n",
    "del tup3;\n",
    "\n",
    "#print(tup3) # this will reture an error"
   ]
  },
  {
   "cell_type": "markdown",
   "metadata": {},
   "source": [
    "# Numpy Overview\n",
    "- NumPy (Numeric Python) is the fundamental package for scientific computing in Python.\n",
    "- It is a Python library that provides a multidimensional array object, various derived objects (such as masked arrays and matrices)\n",
    "- An assortment of routines for fast operations on arrays, including mathematical, logical, shape manipulation, sorting, selecting, I/O, discrete Fourier transforms, basic linear algebra, basic statistical operations, random simulation and much more.\n",
    "- In short , NumPy package provides basic routines for manipulating large arrays and matrices of numeric data. "
   ]
  },
  {
   "cell_type": "markdown",
   "metadata": {},
   "source": [
    "# Simple array math using np.array.\n",
    "* Note that NumPy array starts its index from 0, end at N-1 (C-style)"
   ]
  },
  {
   "cell_type": "code",
   "execution_count": null,
   "metadata": {},
   "outputs": [],
   "source": [
    "import numpy as np\n",
    "a = np.array([1,2,3])\n",
    "b = np.array([4,5,6])\n",
    "print(a+b)\n",
    "print(a*b)\n",
    "print(a ** b)"
   ]
  },
  {
   "cell_type": "markdown",
   "metadata": {},
   "source": [
    "* Setting Array Element Values"
   ]
  },
  {
   "cell_type": "code",
   "execution_count": null,
   "metadata": {},
   "outputs": [],
   "source": [
    "a[0]\n",
    "a[0]=11\n",
    "print(a)\n",
    "a.fill(0) # set all values in the array with 0\n",
    "a[:]=1 # why we need to use [:]?\n",
    "print(a)\n",
    "print(a.dtype) # note that a is still int64 type !\n",
    "a[0]=10.6 # decimal parts are truncated, be careful!\n",
    "print(a)\n",
    "a.fill(-3.7) # fill() will have the same behavior\n",
    "print(a)"
   ]
  },
  {
   "cell_type": "markdown",
   "metadata": {},
   "source": [
    "* #### Numpy Array Properties"
   ]
  },
  {
   "cell_type": "code",
   "execution_count": null,
   "metadata": {},
   "outputs": [],
   "source": [
    "a = np.array([0,1,2,3]) # create a from a list\n",
    "# create evenly spaced values within [start, stop)\n",
    "a = np.arange(1,5)\n",
    "print(a)\n",
    "print(type(a))\n",
    "print(a.dtype)\n",
    "# Length of one array element in bytes\n",
    "print(a.itemsize)\n",
    "# shape returns a tuple listing the length of the array\n",
    "# along each dimension.\n",
    "print(a.shape) # or np.shape(a)\n",
    "print(a.size) # or np.size(a), return the total number of elements\n",
    "# return the number of bytes used by the data portion of the array\n",
    "print(a.nbytes)\n",
    "# return the number of dimensions of the array\n",
    "print(a.ndim)"
   ]
  },
  {
   "cell_type": "markdown",
   "metadata": {},
   "source": [
    "* #### Numpy Array Creation Functions"
   ]
  },
  {
   "cell_type": "code",
   "execution_count": null,
   "metadata": {},
   "outputs": [],
   "source": [
    "a = np.arange(4)\n",
    "print(a)\n",
    "a = np.arange(0, 2*np.pi, np.pi/4)\n",
    "print(a)\n",
    "a = np.arange(1.5,2.1,0.3)\n",
    "print(a)\n",
    "a = np.ones((2,3))\n",
    "print(a)\n",
    "print(a.dtype)\n",
    "a = np.zeros(3)\n",
    "print(a)\n",
    "print(a.dtype)"
   ]
  },
  {
   "cell_type": "code",
   "execution_count": null,
   "metadata": {},
   "outputs": [],
   "source": [
    "a = np.identity(4)\n",
    "print(a)\n",
    "a = np.eye(4)\n",
    "print(a)\n",
    "print(a.dtype)\n",
    "a = np.eye(4,dtype=int)\n",
    "print(a)\n",
    "print(a.dtype)\n",
    "a = np.empty(2)\n",
    "print(a)\n",
    "a.fill(5.0)\n",
    "print(a)\n",
    "a[:] = 4.0\n",
    "print(a)"
   ]
  },
  {
   "cell_type": "code",
   "execution_count": null,
   "metadata": {},
   "outputs": [],
   "source": [
    "a = np.linspace(0,1,5)\n",
    "print(a)\n",
    "a = np.logspace(0,1,5)\n",
    "print(a)"
   ]
  },
  {
   "cell_type": "markdown",
   "metadata": {},
   "source": [
    "* #### Array from/to ASCII files\n",
    "use loadtxt\n",
    "\n",
    "`data.txt`<br>\n",
    "  `Index`<br>\n",
    "`Brain Weight`<br>\n",
    "`Body Weight`<br>\n",
    "`#here is the training set`<br>\n",
    "`1 3.385 44.500 abjhk`<br>\n",
    "`2 0.480 33.38 bc_00asdk`<br>\n",
    "`...`<br>\n",
    "`#here is the cross validation set`<br>\n",
    "`6 27.660 115.000 rk`<br>\n",
    "`7 14.830 98.200 fff`<br>\n",
    "`...`<br>\n",
    "`9 4.190 58.000 kij`<br>"
   ]
  },
  {
   "cell_type": "code",
   "execution_count": null,
   "metadata": {},
   "outputs": [],
   "source": [
    "a = np.loadtxt('data.txt',skiprows=16,usecols={0,1,2},dtype=None,comments=\"#\")\n",
    "print(a)"
   ]
  },
  {
   "cell_type": "markdown",
   "metadata": {},
   "source": [
    "Using genfromtxt"
   ]
  },
  {
   "cell_type": "code",
   "execution_count": null,
   "metadata": {},
   "outputs": [],
   "source": [
    "# np.genfromtxt can guess the actual type of your columns by using dtype=None\n",
    "a = np.genfromtxt('data.txt',skip_header=16,dtype=None)\n",
    "print(a)"
   ]
  },
  {
   "cell_type": "markdown",
   "metadata": {},
   "source": [
    "* #### Reshaping Arrays"
   ]
  },
  {
   "cell_type": "code",
   "execution_count": null,
   "metadata": {},
   "outputs": [],
   "source": [
    "a = np.arange(6)\n",
    "print(a)\n",
    "print(a.shape)\n",
    "a.shape = (2,3) # reshape array to 2x3\n",
    "print(a)\n",
    "a = a.reshape(3,2) # reshape array to 3x2\n",
    "print(a)\n",
    "# a.reshape(2,5) # cannot change the number of elements in the array\n",
    "# Traceback (most recent call last):\n",
    "# File \"<stdin>\", line 1, in <module>\n",
    "# ValueError: total size of new array must be unchanged\n",
    "a = a.reshape(2,-1) # numpy determines the last dimension\n",
    "print(a)"
   ]
  },
  {
   "cell_type": "markdown",
   "metadata": {},
   "source": [
    "* #### Flattening Multi-dimensional Arrays"
   ]
  },
  {
   "cell_type": "code",
   "execution_count": null,
   "metadata": {},
   "outputs": [],
   "source": [
    "# Note the difference between\n",
    "# a.flatten() and a.flat\n",
    "print(a)\n",
    "# a.flatten() converts a multidimensional array into\n",
    "# a 1-D array. The new array is a copy of the original data.\n",
    "b = a.flatten()\n",
    "print(b)\n",
    "b[0] = 7\n",
    "print(b)\n",
    "print(a)\n",
    "# a.flat is an attribute that returns an iterator object that accesses the data in the multi-\n",
    "# dimensional array data as a 1-D array. It references the original memory.\n",
    "print(a.flat)\n",
    "print(a.flat[:])\n",
    "b = a.flat\n",
    "b[0] = 7\n",
    "print(a)"
   ]
  },
  {
   "cell_type": "markdown",
   "metadata": {},
   "source": [
    "* #### (Un)raveling Multi-dimensional Arrays"
   ]
  },
  {
   "cell_type": "code",
   "execution_count": null,
   "metadata": {},
   "outputs": [],
   "source": [
    "print(a)\n",
    "# ravel() is the same as flatten but returns a reference of the array if possible\n",
    "b = a.ravel()\n",
    "print(b)\n",
    "b[0] = 13\n",
    "print(b)\n",
    "print(a)\n",
    "at = a.transpose()\n",
    "print(at)\n",
    "b = at.ravel()\n",
    "print(b)\n",
    "b[0]=19\n",
    "print(b)\n",
    "print(a)"
   ]
  },
  {
   "cell_type": "markdown",
   "metadata": {},
   "source": [
    "# Basic Usage of Matplotlib\n",
    "\n",
    "- Matplotlib is probably the single most used Python package for 2Dgraphics. (http://matplotlib.org/)\n",
    "- It provides both a very quick way to visualize data from Python and publication-quality figures in many formats.\n",
    "- Provides Matlab/Mathematica-like functionality.\n",
    "\n",
    "<img src=\"figure/logo_matplotlib.png\", style=\"float: left;\", width=\"250\">"
   ]
  },
  {
   "cell_type": "code",
   "execution_count": null,
   "metadata": {},
   "outputs": [],
   "source": [
    "# Plot the sine and cosine arrays using the default settings\n",
    "import numpy as np\n",
    "import matplotlib.pyplot as plt\n",
    "X = np.linspace(-np.pi, np.pi, 50,endpoint=True)\n",
    "C,S = np.cos(X), np.sin(X)\n",
    "# plt.plot(X,C)\n",
    "# plt.plot(X,S)\n",
    "plt.plot(X,C,X,S)\n",
    "plt.show()"
   ]
  },
  {
   "cell_type": "code",
   "execution_count": null,
   "metadata": {},
   "outputs": [],
   "source": [
    "# plot multiple groups with different line styles\n",
    "plt.plot(X,C,'bo',X,S,'r-^',X,np.sin(2*X),'g-s')\n",
    "plt.show()"
   ]
  },
  {
   "cell_type": "code",
   "execution_count": null,
   "metadata": {},
   "outputs": [],
   "source": [
    "plt.scatter(X,S)\n",
    "plt.show()"
   ]
  },
  {
   "cell_type": "code",
   "execution_count": null,
   "metadata": {},
   "outputs": [],
   "source": [
    "x = np.random.rand(200)\n",
    "y = np.random.rand(200)\n",
    "size = np.random.rand(200)*30\n",
    "color = np.random.rand(200)\n",
    "plt.scatter(x, y, size, color)\n",
    "plt.colorbar()\n",
    "plt.show()"
   ]
  },
  {
   "cell_type": "code",
   "execution_count": null,
   "metadata": {},
   "outputs": [],
   "source": [
    "# Multiple Figures\n",
    "X = np.linspace(-np.pi, np.pi, 50,endpoint=True)\n",
    "C,S = np.cos(X), np.sin(X)\n",
    "# create a figure\n",
    "plt.figure()\n",
    "plt.plot(S)\n",
    "# create a new figure\n",
    "plt.figure()\n",
    "plt.plot(C)\n",
    "plt.show()"
   ]
  },
  {
   "cell_type": "code",
   "execution_count": null,
   "metadata": {},
   "outputs": [],
   "source": [
    "# Multiple Plots Using subplot\n",
    "# divide the plotting area in 2 rows and 1 column(s)\n",
    "# subplot(rows, columns, active_plot)\n",
    "plt.subplot(2, 1, 1)\n",
    "plt.plot(S, 'r-^')\n",
    "# create a new figure\n",
    "plt.subplot(2, 1, 2)\n",
    "plt.plot(C, 'b-o')\n",
    "plt.show()"
   ]
  },
  {
   "cell_type": "code",
   "execution_count": null,
   "metadata": {},
   "outputs": [],
   "source": [
    "#Adding Legend to Plot\n",
    "# Legend labels with plot\n",
    "# Add labels in plot command\n",
    "plt.plot(S, 'r-^', label='sin')\n",
    "plt.plot(C, 'b-o', label='cos')\n",
    "plt.legend(numpoints=1)\n",
    "plt.show()"
   ]
  },
  {
   "cell_type": "code",
   "execution_count": null,
   "metadata": {},
   "outputs": [],
   "source": [
    "# Label with plt.legend\n",
    "# Add labels via list in legend.\n",
    "plt.plot(S, 'r-^', C, 'b-o')\n",
    "plt.legend(['sin','cos'])\n",
    "# Add x and y labels\n",
    "plt.xlabel('radians')\n",
    "# Keywords set text properties.\n",
    "plt.ylabel('amplitude', fontsize='large')\n",
    "# Add title and show grid\n",
    "plt.title('Sin(x) vs Cos(x)')\n",
    "plt.grid()\n",
    "plt.show()"
   ]
  },
  {
   "cell_type": "markdown",
   "metadata": {},
   "source": [
    "# Four Tools in Numpy\n",
    "## Removing loops using NumPy\n",
    "- Ufunc (Universal Function)\n",
    "- Aggregation\n",
    "- Broadcasting\n",
    "- Slicing, masking and fancy indexing\n",
    "\n",
    "### Numpy’s universal function (or ufunc for short) is a function that operates on ndarrays in an element-by-element fashion\n",
    "- Ufunc is a “vectorized” wrapper for a function that takes a fixed number of scalar inputs and produces a fixed number of scalar outputs.\n",
    "- Vectorization (simplified): is the process of rewriting a loop so that instead of processing a single element of an array N times, it processes (say) 4 elements of the array simultaneously N/4 times. \n",
    "- Many of the built-in functions are implemented in compiled C code.\n",
    "- They can be much faster than the code on the Python level\n",
    "\n",
    "### Ufunc: Many ufuncs available\n",
    "- Arithmetic Operators: `+ - * / // % **`\n",
    "- Bitwise Operators: `& | ~ ^ >> <<`\n",
    "- Comparison Oper’s: `< > <= >= == !=`\n",
    "- Trig Family: `np.sin, np.cos, np.tan ...`\n",
    "- Exponential Family: `np.exp, np.log, np.log10 ...`\n",
    "- Special Functions: `scipy.special.*`\n",
    "- . . . and many, many more."
   ]
  },
  {
   "cell_type": "code",
   "execution_count": null,
   "metadata": {},
   "outputs": [],
   "source": [
    "x = np.arange(5.)\n",
    "print(x)\n",
    "c = np.pi\n",
    "x *= c\n",
    "y = np.sin(x)\n",
    "print(y)"
   ]
  },
  {
   "cell_type": "markdown",
   "metadata": {},
   "source": [
    "### Aggregation Functions\n",
    "- Aggregations are functions which summarize the values in an array (e.g. min, max, sum, mean, etc.)\n",
    "- Numpy aggregations are much faster than Python built-in functions\n",
    "\n",
    "- All have the same call style:\n",
    "\n",
    "    `np.min() np.max() np.sum() np.prod()`<br>\n",
    "`np.argsort()`<br>\n",
    "`np.mean() np.std() np.var() np.any()`<br>\n",
    "`np.all() np.median() np.percentile()`<br>\n",
    "`np.argmin() np.argmax() . . .`<br>\n",
    "`np.nanmin() np.nanmax() np.nansum(). . .`<br>"
   ]
  },
  {
   "cell_type": "code",
   "execution_count": null,
   "metadata": {},
   "outputs": [],
   "source": [
    "# Numpy Aggregation - Array Calculation\n",
    "a=np.arange(6).reshape(2,-1)\n",
    "print(a)\n",
    "# by default a.sum() adds up all values\n",
    "print(a.sum())\n",
    "# same result, functional form\n",
    "print(np.sum(a))\n",
    "# note this is not numpy’s sum!\n",
    "print(sum(a))\n",
    "# not numpy’s sum either!\n",
    "# sum(a,axis=0)\n",
    "# Traceback (most recent call last):\n",
    "# File \"<stdin>\", line 1, in <module>\n",
    "# TypeError: sum() takes no keyword\n",
    "# arguments\n",
    "# sum along different axis\n",
    "print(np.sum(a,axis=0))\n",
    "print(np.sum(a,axis=1))\n",
    "print(np.sum(a,axis=-1))\n",
    "# product along different axis\n",
    "print(np.prod(a,axis=0))\n",
    "print(a.prod(axis=1))"
   ]
  },
  {
   "cell_type": "code",
   "execution_count": null,
   "metadata": {},
   "outputs": [],
   "source": [
    "# Numpy Aggregation – Statistical Methods\n",
    "np.set_printoptions(precision=4)\n",
    "# generate 2x3 random float array\n",
    "a=np.random.random(6).reshape(2,3)\n",
    "print(a)\n",
    "print(a.mean(axis=0))\n",
    "print(a.mean())\n",
    "print(np.mean(a))\n",
    "0.61730865425015347\n"
   ]
  },
  {
   "cell_type": "code",
   "execution_count": null,
   "metadata": {},
   "outputs": [],
   "source": [
    "# average can use weights\n",
    "print(np.average(a,weights=[1,2,3],axis=1))\n",
    "# standard deviation\n",
    "print(a.std(axis=0))\n",
    "# variance\n",
    "print(np.var(a, axis=1))"
   ]
  },
  {
   "cell_type": "code",
   "execution_count": null,
   "metadata": {},
   "outputs": [],
   "source": [
    "# min/max operation\n",
    "print(a.min())\n",
    "print(np.max(a))\n",
    "# find index of the minimum\n",
    "print(a.argmin(axis=0))\n",
    "print(np.argmax(a,axis=1))\n",
    "# this will return flattened index\n",
    "print(np.argmin(a))\n",
    "print(a.argmax())"
   ]
  },
  {
   "cell_type": "markdown",
   "metadata": {},
   "source": [
    "### Array Broadcasting\n",
    "\n",
    "- Broadcasting is a set of rules by which ufuncs operate on arrays of different sizes and/or dimensions.\n",
    "- Broadcasting allows NumPy arrays of different dimensionality to be\n",
    "combined in the same expression.\n",
    "- Arrays with smaller dimension are broadcasted to match the larger arrays, without copying data.\n",
    "\n",
    "<img src=\"figure/np_broadcast.png\", style=\"float: left;\", width=\"500\">"
   ]
  },
  {
   "cell_type": "code",
   "execution_count": null,
   "metadata": {},
   "outputs": [],
   "source": [
    "a = np.arange(3) + 5\n",
    "print(a)"
   ]
  },
  {
   "cell_type": "code",
   "execution_count": null,
   "metadata": {},
   "outputs": [],
   "source": [
    "a = np.ones((3,3)) + np.arange(3)\n",
    "print(a)"
   ]
  },
  {
   "cell_type": "code",
   "execution_count": null,
   "metadata": {},
   "outputs": [],
   "source": [
    "a = np.arange(3).reshape(3,1) + np.arange(3)\n",
    "print(a)"
   ]
  },
  {
   "cell_type": "markdown",
   "metadata": {},
   "source": [
    "### Slicing, Masking and Fancy Indexing\n",
    "\n",
    "- `arr[lower:upper:step]`\n",
    "- Extracts a portion of a sequence by specifying a lower and upper bound. The lower-bound element is included, but the upper-bound element is not included. Mathematically: `[lower, upper)`. The step value specifies the stride between elements"
   ]
  },
  {
   "cell_type": "code",
   "execution_count": null,
   "metadata": {},
   "outputs": [],
   "source": [
    "# indices: 0 1 2 3 4\n",
    "# negative indices:-5 -4 -3 -2 -1\n",
    "a = np.array([10,11,12,13,14])\n",
    "# The following slicing results are the same\n",
    "print(a[1:3])\n",
    "print(a[1:-2])\n",
    "print(a[-4:3])"
   ]
  },
  {
   "cell_type": "code",
   "execution_count": null,
   "metadata": {},
   "outputs": [],
   "source": [
    "# Omitting Indices: omitted boundaries are assumed to be the beginning\n",
    "# or end of the list, compare the following results\n",
    "print(a[:3])\n",
    "print(a[-2:])\n",
    "print(a[1:]) # from 1st element to the last\n",
    "print(a[:-1]) # from 1st to the second to last\n",
    "print(a[:]) # entire array\n",
    "print(a[::2]) # from 1st, every other element (even indices)\n",
    "print(a[1::2]) # from 2nd, every other element (odd indices)"
   ]
  },
  {
   "cell_type": "code",
   "execution_count": null,
   "metadata": {},
   "outputs": [],
   "source": [
    "# Multidimensional Arrays\n",
    "# A few 2D operations similar to the 1D operations shown above\n",
    "a = np.array([[ 0, 1, 2, 3],[10,11,12,13]], float)\n",
    "print(a)\n",
    "print(a.shape,a.size)\n",
    "print(a.ndim) # number of dimensions\n",
    "print(a[1,3]) # reference a 2D array element\n",
    "a[1,3] = -1 # set value of an array element\n",
    "print(a[1]) # address second row using a single index"
   ]
  },
  {
   "cell_type": "code",
   "execution_count": null,
   "metadata": {},
   "outputs": [],
   "source": [
    "a = np.arange(1,26)\n",
    "a = a.reshape(5,5) # generate the 2D array\n",
    "print(a)"
   ]
  },
  {
   "cell_type": "code",
   "execution_count": null,
   "metadata": {},
   "outputs": [],
   "source": [
    "print(a[0,3:5])"
   ]
  },
  {
   "cell_type": "code",
   "execution_count": null,
   "metadata": {},
   "outputs": [],
   "source": [
    "print(a[0,3:4])"
   ]
  },
  {
   "cell_type": "code",
   "execution_count": null,
   "metadata": {},
   "outputs": [],
   "source": [
    "print(a[4:,4:])"
   ]
  },
  {
   "cell_type": "code",
   "execution_count": null,
   "metadata": {},
   "outputs": [],
   "source": [
    "print(a[3:,3:])"
   ]
  },
  {
   "cell_type": "code",
   "execution_count": null,
   "metadata": {},
   "outputs": [],
   "source": [
    "print(a[:,2])"
   ]
  },
  {
   "cell_type": "code",
   "execution_count": null,
   "metadata": {},
   "outputs": [],
   "source": [
    "print(a[2::2,::2])"
   ]
  },
  {
   "cell_type": "markdown",
   "metadata": {},
   "source": [
    "### Slices Are References\n",
    "- Slices are references to memory in the original array\n",
    "- Changing values in a slice also changes the original array !"
   ]
  },
  {
   "cell_type": "code",
   "execution_count": null,
   "metadata": {},
   "outputs": [],
   "source": [
    "a = np.arange(5)\n",
    "print(a)\n",
    "b = a[2:4]\n",
    "print(b)\n",
    "b[0]=7\n",
    "print(a)"
   ]
  },
  {
   "cell_type": "markdown",
   "metadata": {},
   "source": [
    "### Masking"
   ]
  },
  {
   "cell_type": "code",
   "execution_count": null,
   "metadata": {},
   "outputs": [],
   "source": [
    "a = np.arange(10)\n",
    "print(a)"
   ]
  },
  {
   "cell_type": "code",
   "execution_count": null,
   "metadata": {},
   "outputs": [],
   "source": [
    "# creation of mask using ufunc\n",
    "mask=np.abs(a-5)>2\n",
    "print(mask)\n",
    "print(a[mask])"
   ]
  },
  {
   "cell_type": "code",
   "execution_count": null,
   "metadata": {},
   "outputs": [],
   "source": [
    "b=a[mask]\n",
    "# manual creation of mask\n",
    "mask=np.array([0,1,0,1,0],dtype=bool)\n",
    "print(b[mask])"
   ]
  },
  {
   "cell_type": "markdown",
   "metadata": {},
   "source": [
    "### 2D Masking\n",
    "<img src=\"figure/masking_2d.png\", style=\"float: left;\", width=\"250\">"
   ]
  },
  {
   "cell_type": "code",
   "execution_count": null,
   "metadata": {},
   "outputs": [],
   "source": [
    "a=np.arange(25).reshape(5,5)+10\n",
    "print(a)"
   ]
  },
  {
   "cell_type": "code",
   "execution_count": null,
   "metadata": {},
   "outputs": [],
   "source": [
    "mask=np.array([0,1,1,0,1],dtype=bool)\n",
    "print(a[mask]) # on rows, same as a[mask,:]"
   ]
  },
  {
   "cell_type": "code",
   "execution_count": null,
   "metadata": {},
   "outputs": [],
   "source": [
    "print(a[:,mask]) # on columns"
   ]
  },
  {
   "cell_type": "markdown",
   "metadata": {},
   "source": [
    "### Fancy Indexing - 1D\n",
    "- NumPy offers more indexing facilities than regular Python sequences.\n",
    "- In addition to indexing by integers and slices, arrays can be indexed by arrays of integers and arrays of Booleans (as seen before)."
   ]
  },
  {
   "cell_type": "code",
   "execution_count": null,
   "metadata": {},
   "outputs": [],
   "source": [
    "a=np.arange(8)**2\n",
    "print(a)\n",
    "# indexing by position\n",
    "i=np.array([1,3,5,1])\n",
    "print(a[i])"
   ]
  },
  {
   "cell_type": "code",
   "execution_count": null,
   "metadata": {},
   "outputs": [],
   "source": [
    "b=(np.arange(6)**2).reshape(2,-1)\n",
    "print(b)\n",
    "i=[0,1,0]\n",
    "j=[0,2,1]\n",
    "print(b[i,j]) # indexing 2D array by position"
   ]
  },
  {
   "cell_type": "markdown",
   "metadata": {},
   "source": [
    "### Fancy Indexing - 2D\n",
    "<img src=\"figure/fancy_indexing_2d.png\", style=\"float: left;\", width=\"200\">"
   ]
  },
  {
   "cell_type": "code",
   "execution_count": null,
   "metadata": {},
   "outputs": [],
   "source": [
    "b=(np.arange(12)**2).reshape(3,-1)\n",
    "print(b)\n",
    "i=[0,2,1]\n",
    "j=[0,2,3]\n",
    "# indexing 2D array\n",
    "print(b[i,j])"
   ]
  },
  {
   "cell_type": "code",
   "execution_count": null,
   "metadata": {},
   "outputs": [],
   "source": [
    "# note the shape of the resulting array\n",
    "i=[[0,2],[2,1]]\n",
    "j=[[0,3],[3,1]]\n",
    "# When an array of indices is used,\n",
    "# the result has the same shape as the indices;\n",
    "print(b[i,j])"
   ]
  },
  {
   "cell_type": "markdown",
   "metadata": {},
   "source": [
    "## Example of using masking, and plotting"
   ]
  },
  {
   "cell_type": "code",
   "execution_count": null,
   "metadata": {},
   "outputs": [],
   "source": [
    "x = np.linspace(-np.pi, np.pi, 30,endpoint=True)\n",
    "y = np.sin(x)"
   ]
  },
  {
   "cell_type": "code",
   "execution_count": null,
   "metadata": {},
   "outputs": [],
   "source": [
    "plt.plot(x,y,'b-s')\n",
    "# plot the y>0 part\n",
    "mask = y>0\n",
    "plt.plot(x[mask],y[mask],'r-o')\n",
    "# plot between -pi/2 and pi/2\n",
    "mask1 = (y<0) & (x>-np.pi/2)\n",
    "plt.plot(x[mask1],y[mask1],'g-^')\n",
    "plt.show()"
   ]
  },
  {
   "cell_type": "code",
   "execution_count": null,
   "metadata": {},
   "outputs": [],
   "source": []
  }
 ],
 "metadata": {
  "kernelspec": {
   "display_name": "Python 2",
   "language": "python",
   "name": "python2"
  },
  "language_info": {
   "codemirror_mode": {
    "name": "ipython",
    "version": 2
   },
   "file_extension": ".py",
   "mimetype": "text/x-python",
   "name": "python",
   "nbconvert_exporter": "python",
   "pygments_lexer": "ipython2",
   "version": "2.7.14"
  }
 },
 "nbformat": 4,
 "nbformat_minor": 2
}
