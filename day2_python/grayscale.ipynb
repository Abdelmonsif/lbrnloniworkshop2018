{
 "cells": [
  {
   "cell_type": "code",
   "execution_count": null,
   "metadata": {},
   "outputs": [],
   "source": [
    "import numpy as np\n",
    "import imageio\n",
    "from scipy.misc import imread, imresize\n",
    "import matplotlib.pyplot as plt\n",
    "\n",
    "img = imageio.imread('cat.jpg')\n",
    "#img_tinted = img * [1, 0.95, 0.9]\n",
    "#img_tinted = img * [0.4, 0.8, 0.8]\n",
    "#img_tinted = np.average(img)\n",
    "#img_tinted = np.average(img,axis=2)\n",
    "#img_tinted = img.average(axis=2)\n",
    "img_tinted = np.average(img,weights=[0.299,0.587,0.114],axis=2)\n",
    "#img_tinted = img\n",
    "#img_tinted = np.average(img,axis=2).reshape(img.shape[0],img.shape[1],1)\n",
    "print img_tinted.shape\n",
    "print img.shape\n",
    "#print img[0].shape\n",
    "#print img[0].shape"
   ]
  },
  {
   "cell_type": "code",
   "execution_count": null,
   "metadata": {},
   "outputs": [],
   "source": [
    "# Show the original image\n",
    "plt.subplot(1, 2, 1)\n",
    "plt.imshow(img)\n",
    "\n",
    "# Show the tinted image\n",
    "plt.subplot(1, 2, 2)\n",
    "\n",
    "# A slight gotcha with imshow is that it might give strange results\n",
    "# if presented with data that is not uint8. To work around this, we\n",
    "# explicitly cast the image to uint8 before displaying it.\n",
    "#plt.imshow(np.uint8(img_tinted), cmap=plt.get_cmap('gray'))\n",
    "plt.imshow(np.uint8(img_tinted), cmap='gray')\n",
    "#plt.imshow(img_tinted)\n",
    "plt.show()"
   ]
  },
  {
   "cell_type": "code",
   "execution_count": null,
   "metadata": {},
   "outputs": [],
   "source": []
  }
 ],
 "metadata": {
  "kernelspec": {
   "display_name": "Python 2",
   "language": "python",
   "name": "python2"
  },
  "language_info": {
   "codemirror_mode": {
    "name": "ipython",
    "version": 2
   },
   "file_extension": ".py",
   "mimetype": "text/x-python",
   "name": "python",
   "nbconvert_exporter": "python",
   "pygments_lexer": "ipython2",
   "version": "2.7.14"
  }
 },
 "nbformat": 4,
 "nbformat_minor": 2
}
