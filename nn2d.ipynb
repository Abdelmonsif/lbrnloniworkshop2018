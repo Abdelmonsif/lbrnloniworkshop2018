{
 "cells": [
  {
   "cell_type": "code",
   "execution_count": 3,
   "metadata": {},
   "outputs": [],
   "source": [
    "# find the k nearest neighbor\n",
    "\n",
    "import numpy as np\n",
    "import matplotlib.pyplot as plt\n",
    "from sklearn.neighbors import NearestNeighbors\n",
    "\n",
    "N=50\n",
    "dim=2\n",
    "# generate N random points in 2D\n",
    "X = np.random.random((N,dim))\n",
    "# find pairwise difference using broadcasting\n",
    "diff = X.reshape(N,1,dim)-X\n",
    "# Find pairwise differences using the aggregate function\n",
    "D = (diff**2).sum(axis=2)\n",
    "# set diagonal to infinity to skip self-neighbors\n",
    "i = np.arange(N)\n",
    "# using advanced (fancy) indexing\n",
    "D[i,i]=np.inf\n",
    "#print D\n",
    "# this only get the nearest neighbor\n",
    "nni = D.argmin(axis=1)\n",
    "# this will return all the nearest neighbors matrix (nnm)\n",
    "nnm = D.argsort(axis=1)"
   ]
  },
  {
   "cell_type": "code",
   "execution_count": 4,
   "metadata": {},
   "outputs": [
    {
     "data": {
      "image/png": "[encoded data removed]",
      "text/plain": [
       "<matplotlib.figure.Figure at 0x85590b8>"
      ]
     },
     "metadata": {},
     "output_type": "display_data"
    }
   ],
   "source": [
    "# plot all the random points\n",
    "plt.plot(X[:,0],X[:,1],'ob')\n",
    "# plot pth point in red\n",
    "p = N/2\n",
    "plt.plot(X[p,0],X[p,1],'or')\n",
    "k = 5\n",
    "\n",
    "#print nnm[p,:k]\n",
    "# plot k neighbors in circles\n",
    "plt.plot(X[nnm[p,:k],0],X[nnm[p,:k],1],'o',markerfacecolor='None',markersize=15,markeredgewidth=1)\n",
    "# http://stackoverflow.com/questions/17990845/how-to-equalize-the-scales-of-x-axis-and-y-axis-in-python-matplotlib\n",
    "plt.gca().set_aspect('equal', adjustable='box')"
   ]
  },
  {
   "cell_type": "code",
   "execution_count": null,
   "metadata": {},
   "outputs": [],
   "source": []
  }
 ],
 "metadata": {
  "kernelspec": {
   "display_name": "Python 2",
   "language": "python",
   "name": "python2"
  },
  "language_info": {
   "codemirror_mode": {
    "name": "ipython",
    "version": 2
   },
   "file_extension": ".py",
   "mimetype": "text/x-python",
   "name": "python",
   "nbconvert_exporter": "python",
   "pygments_lexer": "ipython2",
   "version": "2.7.14"
  }
 },
 "nbformat": 4,
 "nbformat_minor": 2
}
